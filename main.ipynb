{
  "cells": [
    {
      "cell_type": "markdown",
      "metadata": {
        "colab_type": "text",
        "id": "view-in-github"
      },
      "source": [
        "<a href=\"https://colab.research.google.com/github/prausela/nutri-stats/blob/main/main.ipynb\" target=\"_parent\"><img src=\"https://colab.research.google.com/assets/colab-badge.svg\" alt=\"Open In Colab\"/></a>"
      ]
    },
    {
      "cell_type": "markdown",
      "metadata": {
        "id": "BPripNXTkZYP"
      },
      "source": [
        "# Nutrition Statistics"
      ]
    },
    {
      "cell_type": "markdown",
      "metadata": {
        "id": "BqxYcMBFkZYR"
      },
      "source": [
        "<a target=\"_blank\" href=\"https://colab.research.google.com/github/prausela/nutri-stats/blob/main/main.ipynb\">\n",
        "  <img src=\"https://colab.research.google.com/assets/colab-badge.svg\" alt=\"Open In Colab\"/>\n",
        "</a>"
      ]
    },
    {
      "cell_type": "markdown",
      "metadata": {
        "id": "rGc1m4CtkZYS"
      },
      "source": [
        "## Import libraries"
      ]
    },
    {
      "cell_type": "code",
      "execution_count": 617,
      "metadata": {
        "id": "MnOwo_PB3CXy"
      },
      "outputs": [],
      "source": [
        "#pip install nbformat"
      ]
    },
    {
      "cell_type": "code",
      "execution_count": 618,
      "metadata": {
        "id": "8jhXYr6BkZYS"
      },
      "outputs": [],
      "source": [
        "import pandas as pd\n",
        "import seaborn as sns\n",
        "import matplotlib.pyplot as plt\n",
        "import numpy as np\n",
        "import plotly.graph_objs as go\n",
        "import math"
      ]
    },
    {
      "cell_type": "markdown",
      "metadata": {
        "id": "TMzfG58pkZYU"
      },
      "source": [
        "## Read Excel File"
      ]
    },
    {
      "cell_type": "code",
      "execution_count": 619,
      "metadata": {
        "colab": {
          "base_uri": "https://localhost:8080/",
          "height": 424
        },
        "id": "XtDo-_ZZkZYV",
        "outputId": "15d98779-e633-49d1-fafb-b915c7abdc5a"
      },
      "outputs": [
        {
          "data": {
            "text/html": [
              "<div>\n",
              "<style scoped>\n",
              "    .dataframe tbody tr th:only-of-type {\n",
              "        vertical-align: middle;\n",
              "    }\n",
              "\n",
              "    .dataframe tbody tr th {\n",
              "        vertical-align: top;\n",
              "    }\n",
              "\n",
              "    .dataframe thead th {\n",
              "        text-align: right;\n",
              "    }\n",
              "</style>\n",
              "<table border=\"1\" class=\"dataframe\">\n",
              "  <thead>\n",
              "    <tr style=\"text-align: right;\">\n",
              "      <th></th>\n",
              "      <th>Grasas_sat</th>\n",
              "      <th>Alcohol</th>\n",
              "      <th>Calorías</th>\n",
              "      <th>Sexo</th>\n",
              "    </tr>\n",
              "  </thead>\n",
              "  <tbody>\n",
              "    <tr>\n",
              "      <th>0</th>\n",
              "      <td>14.60</td>\n",
              "      <td>0.03</td>\n",
              "      <td>910</td>\n",
              "      <td>F</td>\n",
              "    </tr>\n",
              "    <tr>\n",
              "      <th>1</th>\n",
              "      <td>11.82</td>\n",
              "      <td>0.05</td>\n",
              "      <td>1026</td>\n",
              "      <td>F</td>\n",
              "    </tr>\n",
              "    <tr>\n",
              "      <th>2</th>\n",
              "      <td>16.98</td>\n",
              "      <td>0.14</td>\n",
              "      <td>1033</td>\n",
              "      <td>F</td>\n",
              "    </tr>\n",
              "    <tr>\n",
              "      <th>3</th>\n",
              "      <td>14.04</td>\n",
              "      <td>0.38</td>\n",
              "      <td>1098</td>\n",
              "      <td>F</td>\n",
              "    </tr>\n",
              "    <tr>\n",
              "      <th>4</th>\n",
              "      <td>15.30</td>\n",
              "      <td>0.38</td>\n",
              "      <td>1122</td>\n",
              "      <td>F</td>\n",
              "    </tr>\n",
              "    <tr>\n",
              "      <th>...</th>\n",
              "      <td>...</td>\n",
              "      <td>...</td>\n",
              "      <td>...</td>\n",
              "      <td>...</td>\n",
              "    </tr>\n",
              "    <tr>\n",
              "      <th>168</th>\n",
              "      <td>46.36</td>\n",
              "      <td>32.64</td>\n",
              "      <td>2285</td>\n",
              "      <td>M</td>\n",
              "    </tr>\n",
              "    <tr>\n",
              "      <th>169</th>\n",
              "      <td>39.30</td>\n",
              "      <td>32.72</td>\n",
              "      <td>2300</td>\n",
              "      <td>M</td>\n",
              "    </tr>\n",
              "    <tr>\n",
              "      <th>170</th>\n",
              "      <td>34.14</td>\n",
              "      <td>37.28</td>\n",
              "      <td>2333</td>\n",
              "      <td>M</td>\n",
              "    </tr>\n",
              "    <tr>\n",
              "      <th>171</th>\n",
              "      <td>999.99</td>\n",
              "      <td>37.90</td>\n",
              "      <td>2334</td>\n",
              "      <td>M</td>\n",
              "    </tr>\n",
              "    <tr>\n",
              "      <th>172</th>\n",
              "      <td>40.59</td>\n",
              "      <td>40.11</td>\n",
              "      <td>2376</td>\n",
              "      <td>M</td>\n",
              "    </tr>\n",
              "  </tbody>\n",
              "</table>\n",
              "<p>173 rows × 4 columns</p>\n",
              "</div>"
            ],
            "text/plain": [
              "     Grasas_sat  Alcohol  Calorías Sexo\n",
              "0         14.60     0.03       910    F\n",
              "1         11.82     0.05      1026    F\n",
              "2         16.98     0.14      1033    F\n",
              "3         14.04     0.38      1098    F\n",
              "4         15.30     0.38      1122    F\n",
              "..          ...      ...       ...  ...\n",
              "168       46.36    32.64      2285    M\n",
              "169       39.30    32.72      2300    M\n",
              "170       34.14    37.28      2333    M\n",
              "171      999.99    37.90      2334    M\n",
              "172       40.59    40.11      2376    M\n",
              "\n",
              "[173 rows x 4 columns]"
            ]
          },
          "execution_count": 619,
          "metadata": {},
          "output_type": "execute_result"
        }
      ],
      "source": [
        "df = pd.read_excel(\"Datos trabajo 1.xls\")\n",
        "df"
      ]
    },
    {
      "cell_type": "markdown",
      "metadata": {},
      "source": [
        "**Grasas Saturadas**\n",
        "- Numérica\n",
        "- Continua\n",
        "\n",
        "**Alcohol**\n",
        "- Numérica\n",
        "- Continua\n",
        "\n",
        "**Calorías**\n",
        "- Numérica\n",
        "- Discreta\n",
        "\n",
        "**Sexo**\n",
        "- Categórica\n",
        "- Nominal"
      ]
    },
    {
      "cell_type": "markdown",
      "metadata": {
        "id": "M1sLrsDNkZYW"
      },
      "source": [
        "## Column Names"
      ]
    },
    {
      "cell_type": "code",
      "execution_count": 620,
      "metadata": {
        "id": "xRM0rkZCkZYX"
      },
      "outputs": [],
      "source": [
        "SAT_FAT = \"Grasas_sat\"\n",
        "ALCOHOL = \"Alcohol\"\n",
        "CAL     = \"Calorías\"\n",
        "GENDER  = \"Sexo\""
      ]
    },
    {
      "cell_type": "markdown",
      "metadata": {
        "id": "ZGDx5Zn2kZYY"
      },
      "source": [
        "## Rows Missing Values\n",
        "1. Reemplace los datos faltantes."
      ]
    },
    {
      "cell_type": "code",
      "execution_count": 621,
      "metadata": {
        "id": "brFktPbnkZYY"
      },
      "outputs": [],
      "source": [
        "MISSING_VAL = 999.99"
      ]
    },
    {
      "cell_type": "code",
      "execution_count": 622,
      "metadata": {
        "id": "ouoGiVFwkZYZ"
      },
      "outputs": [],
      "source": [
        "rows_with_val           = lambda val, df : df[df.eq(val).any(axis=1)]\n",
        "rows_with_missing_val   = lambda df      : rows_with_val(MISSING_VAL, df)"
      ]
    },
    {
      "cell_type": "code",
      "execution_count": 623,
      "metadata": {
        "colab": {
          "base_uri": "https://localhost:8080/",
          "height": 175
        },
        "id": "WUXo3pZRkZYZ",
        "outputId": "6089dace-a035-40a1-d192-7fa84bd836d4"
      },
      "outputs": [
        {
          "data": {
            "text/html": [
              "<div>\n",
              "<style scoped>\n",
              "    .dataframe tbody tr th:only-of-type {\n",
              "        vertical-align: middle;\n",
              "    }\n",
              "\n",
              "    .dataframe tbody tr th {\n",
              "        vertical-align: top;\n",
              "    }\n",
              "\n",
              "    .dataframe thead th {\n",
              "        text-align: right;\n",
              "    }\n",
              "</style>\n",
              "<table border=\"1\" class=\"dataframe\">\n",
              "  <thead>\n",
              "    <tr style=\"text-align: right;\">\n",
              "      <th></th>\n",
              "      <th>Grasas_sat</th>\n",
              "      <th>Alcohol</th>\n",
              "      <th>Calorías</th>\n",
              "      <th>Sexo</th>\n",
              "    </tr>\n",
              "  </thead>\n",
              "  <tbody>\n",
              "    <tr>\n",
              "      <th>21</th>\n",
              "      <td>36.31</td>\n",
              "      <td>999.99</td>\n",
              "      <td>1000</td>\n",
              "      <td>F</td>\n",
              "    </tr>\n",
              "    <tr>\n",
              "      <th>24</th>\n",
              "      <td>41.01</td>\n",
              "      <td>999.99</td>\n",
              "      <td>800</td>\n",
              "      <td>F</td>\n",
              "    </tr>\n",
              "    <tr>\n",
              "      <th>162</th>\n",
              "      <td>27.08</td>\n",
              "      <td>999.99</td>\n",
              "      <td>2054</td>\n",
              "      <td>M</td>\n",
              "    </tr>\n",
              "    <tr>\n",
              "      <th>171</th>\n",
              "      <td>999.99</td>\n",
              "      <td>37.90</td>\n",
              "      <td>2334</td>\n",
              "      <td>M</td>\n",
              "    </tr>\n",
              "  </tbody>\n",
              "</table>\n",
              "</div>"
            ],
            "text/plain": [
              "     Grasas_sat  Alcohol  Calorías Sexo\n",
              "21        36.31   999.99      1000    F\n",
              "24        41.01   999.99       800    F\n",
              "162       27.08   999.99      2054    M\n",
              "171      999.99    37.90      2334    M"
            ]
          },
          "execution_count": 623,
          "metadata": {},
          "output_type": "execute_result"
        }
      ],
      "source": [
        "mv_df = rows_with_missing_val(df)\n",
        "mv_df"
      ]
    },
    {
      "cell_type": "markdown",
      "metadata": {},
      "source": [
        "### Comparison between the dataset with missing values vs without missing-value rows"
      ]
    },
    {
      "cell_type": "code",
      "execution_count": 624,
      "metadata": {
        "colab": {
          "base_uri": "https://localhost:8080/",
          "height": 424
        },
        "id": "uhs0wrsRkZYZ",
        "outputId": "80366206-9507-4e4a-cc16-fdb8593f4456"
      },
      "outputs": [
        {
          "data": {
            "text/html": [
              "<div>\n",
              "<style scoped>\n",
              "    .dataframe tbody tr th:only-of-type {\n",
              "        vertical-align: middle;\n",
              "    }\n",
              "\n",
              "    .dataframe tbody tr th {\n",
              "        vertical-align: top;\n",
              "    }\n",
              "\n",
              "    .dataframe thead th {\n",
              "        text-align: right;\n",
              "    }\n",
              "</style>\n",
              "<table border=\"1\" class=\"dataframe\">\n",
              "  <thead>\n",
              "    <tr style=\"text-align: right;\">\n",
              "      <th></th>\n",
              "      <th>Grasas_sat</th>\n",
              "      <th>Alcohol</th>\n",
              "      <th>Calorías</th>\n",
              "      <th>Sexo</th>\n",
              "    </tr>\n",
              "  </thead>\n",
              "  <tbody>\n",
              "    <tr>\n",
              "      <th>0</th>\n",
              "      <td>14.60</td>\n",
              "      <td>0.03</td>\n",
              "      <td>910</td>\n",
              "      <td>F</td>\n",
              "    </tr>\n",
              "    <tr>\n",
              "      <th>1</th>\n",
              "      <td>11.82</td>\n",
              "      <td>0.05</td>\n",
              "      <td>1026</td>\n",
              "      <td>F</td>\n",
              "    </tr>\n",
              "    <tr>\n",
              "      <th>2</th>\n",
              "      <td>16.98</td>\n",
              "      <td>0.14</td>\n",
              "      <td>1033</td>\n",
              "      <td>F</td>\n",
              "    </tr>\n",
              "    <tr>\n",
              "      <th>3</th>\n",
              "      <td>14.04</td>\n",
              "      <td>0.38</td>\n",
              "      <td>1098</td>\n",
              "      <td>F</td>\n",
              "    </tr>\n",
              "    <tr>\n",
              "      <th>4</th>\n",
              "      <td>15.30</td>\n",
              "      <td>0.38</td>\n",
              "      <td>1122</td>\n",
              "      <td>F</td>\n",
              "    </tr>\n",
              "    <tr>\n",
              "      <th>...</th>\n",
              "      <td>...</td>\n",
              "      <td>...</td>\n",
              "      <td>...</td>\n",
              "      <td>...</td>\n",
              "    </tr>\n",
              "    <tr>\n",
              "      <th>168</th>\n",
              "      <td>46.36</td>\n",
              "      <td>32.64</td>\n",
              "      <td>2285</td>\n",
              "      <td>M</td>\n",
              "    </tr>\n",
              "    <tr>\n",
              "      <th>169</th>\n",
              "      <td>39.30</td>\n",
              "      <td>32.72</td>\n",
              "      <td>2300</td>\n",
              "      <td>M</td>\n",
              "    </tr>\n",
              "    <tr>\n",
              "      <th>170</th>\n",
              "      <td>34.14</td>\n",
              "      <td>37.28</td>\n",
              "      <td>2333</td>\n",
              "      <td>M</td>\n",
              "    </tr>\n",
              "    <tr>\n",
              "      <th>171</th>\n",
              "      <td>999.99</td>\n",
              "      <td>37.90</td>\n",
              "      <td>2334</td>\n",
              "      <td>M</td>\n",
              "    </tr>\n",
              "    <tr>\n",
              "      <th>172</th>\n",
              "      <td>40.59</td>\n",
              "      <td>40.11</td>\n",
              "      <td>2376</td>\n",
              "      <td>M</td>\n",
              "    </tr>\n",
              "  </tbody>\n",
              "</table>\n",
              "<p>173 rows × 4 columns</p>\n",
              "</div>"
            ],
            "text/plain": [
              "     Grasas_sat  Alcohol  Calorías Sexo\n",
              "0         14.60     0.03       910    F\n",
              "1         11.82     0.05      1026    F\n",
              "2         16.98     0.14      1033    F\n",
              "3         14.04     0.38      1098    F\n",
              "4         15.30     0.38      1122    F\n",
              "..          ...      ...       ...  ...\n",
              "168       46.36    32.64      2285    M\n",
              "169       39.30    32.72      2300    M\n",
              "170       34.14    37.28      2333    M\n",
              "171      999.99    37.90      2334    M\n",
              "172       40.59    40.11      2376    M\n",
              "\n",
              "[173 rows x 4 columns]"
            ]
          },
          "execution_count": 624,
          "metadata": {},
          "output_type": "execute_result"
        }
      ],
      "source": [
        "df"
      ]
    },
    {
      "cell_type": "code",
      "execution_count": 625,
      "metadata": {
        "colab": {
          "base_uri": "https://localhost:8080/",
          "height": 424
        },
        "id": "quXNaFO-kZYa",
        "outputId": "8e321445-f7da-458b-aa03-088edcc8c25a"
      },
      "outputs": [
        {
          "data": {
            "text/html": [
              "<div>\n",
              "<style scoped>\n",
              "    .dataframe tbody tr th:only-of-type {\n",
              "        vertical-align: middle;\n",
              "    }\n",
              "\n",
              "    .dataframe tbody tr th {\n",
              "        vertical-align: top;\n",
              "    }\n",
              "\n",
              "    .dataframe thead th {\n",
              "        text-align: right;\n",
              "    }\n",
              "</style>\n",
              "<table border=\"1\" class=\"dataframe\">\n",
              "  <thead>\n",
              "    <tr style=\"text-align: right;\">\n",
              "      <th></th>\n",
              "      <th>Grasas_sat</th>\n",
              "      <th>Alcohol</th>\n",
              "      <th>Calorías</th>\n",
              "      <th>Sexo</th>\n",
              "    </tr>\n",
              "  </thead>\n",
              "  <tbody>\n",
              "    <tr>\n",
              "      <th>0</th>\n",
              "      <td>14.60</td>\n",
              "      <td>0.03</td>\n",
              "      <td>910</td>\n",
              "      <td>F</td>\n",
              "    </tr>\n",
              "    <tr>\n",
              "      <th>1</th>\n",
              "      <td>11.82</td>\n",
              "      <td>0.05</td>\n",
              "      <td>1026</td>\n",
              "      <td>F</td>\n",
              "    </tr>\n",
              "    <tr>\n",
              "      <th>2</th>\n",
              "      <td>16.98</td>\n",
              "      <td>0.14</td>\n",
              "      <td>1033</td>\n",
              "      <td>F</td>\n",
              "    </tr>\n",
              "    <tr>\n",
              "      <th>3</th>\n",
              "      <td>14.04</td>\n",
              "      <td>0.38</td>\n",
              "      <td>1098</td>\n",
              "      <td>F</td>\n",
              "    </tr>\n",
              "    <tr>\n",
              "      <th>4</th>\n",
              "      <td>15.30</td>\n",
              "      <td>0.38</td>\n",
              "      <td>1122</td>\n",
              "      <td>F</td>\n",
              "    </tr>\n",
              "    <tr>\n",
              "      <th>...</th>\n",
              "      <td>...</td>\n",
              "      <td>...</td>\n",
              "      <td>...</td>\n",
              "      <td>...</td>\n",
              "    </tr>\n",
              "    <tr>\n",
              "      <th>167</th>\n",
              "      <td>45.31</td>\n",
              "      <td>31.26</td>\n",
              "      <td>2260</td>\n",
              "      <td>M</td>\n",
              "    </tr>\n",
              "    <tr>\n",
              "      <th>168</th>\n",
              "      <td>46.36</td>\n",
              "      <td>32.64</td>\n",
              "      <td>2285</td>\n",
              "      <td>M</td>\n",
              "    </tr>\n",
              "    <tr>\n",
              "      <th>169</th>\n",
              "      <td>39.30</td>\n",
              "      <td>32.72</td>\n",
              "      <td>2300</td>\n",
              "      <td>M</td>\n",
              "    </tr>\n",
              "    <tr>\n",
              "      <th>170</th>\n",
              "      <td>34.14</td>\n",
              "      <td>37.28</td>\n",
              "      <td>2333</td>\n",
              "      <td>M</td>\n",
              "    </tr>\n",
              "    <tr>\n",
              "      <th>172</th>\n",
              "      <td>40.59</td>\n",
              "      <td>40.11</td>\n",
              "      <td>2376</td>\n",
              "      <td>M</td>\n",
              "    </tr>\n",
              "  </tbody>\n",
              "</table>\n",
              "<p>169 rows × 4 columns</p>\n",
              "</div>"
            ],
            "text/plain": [
              "     Grasas_sat  Alcohol  Calorías Sexo\n",
              "0         14.60     0.03       910    F\n",
              "1         11.82     0.05      1026    F\n",
              "2         16.98     0.14      1033    F\n",
              "3         14.04     0.38      1098    F\n",
              "4         15.30     0.38      1122    F\n",
              "..          ...      ...       ...  ...\n",
              "167       45.31    31.26      2260    M\n",
              "168       46.36    32.64      2285    M\n",
              "169       39.30    32.72      2300    M\n",
              "170       34.14    37.28      2333    M\n",
              "172       40.59    40.11      2376    M\n",
              "\n",
              "[169 rows x 4 columns]"
            ]
          },
          "execution_count": 625,
          "metadata": {},
          "output_type": "execute_result"
        }
      ],
      "source": [
        "nm_df = df.drop(mv_df.index)\n",
        "nm_df"
      ]
    },
    {
      "cell_type": "markdown",
      "metadata": {},
      "source": [
        "### Separate into variable vs gender vs calories datasets"
      ]
    },
    {
      "cell_type": "code",
      "execution_count": 626,
      "metadata": {},
      "outputs": [],
      "source": [
        "drop_rows_with_missing_vals = lambda df : df.drop(rows_with_missing_val(df).index)"
      ]
    },
    {
      "cell_type": "code",
      "execution_count": 627,
      "metadata": {},
      "outputs": [
        {
          "data": {
            "text/html": [
              "<div>\n",
              "<style scoped>\n",
              "    .dataframe tbody tr th:only-of-type {\n",
              "        vertical-align: middle;\n",
              "    }\n",
              "\n",
              "    .dataframe tbody tr th {\n",
              "        vertical-align: top;\n",
              "    }\n",
              "\n",
              "    .dataframe thead th {\n",
              "        text-align: right;\n",
              "    }\n",
              "</style>\n",
              "<table border=\"1\" class=\"dataframe\">\n",
              "  <thead>\n",
              "    <tr style=\"text-align: right;\">\n",
              "      <th></th>\n",
              "      <th>Grasas_sat</th>\n",
              "      <th>Calorías</th>\n",
              "      <th>Sexo</th>\n",
              "    </tr>\n",
              "  </thead>\n",
              "  <tbody>\n",
              "    <tr>\n",
              "      <th>0</th>\n",
              "      <td>14.60</td>\n",
              "      <td>910</td>\n",
              "      <td>F</td>\n",
              "    </tr>\n",
              "    <tr>\n",
              "      <th>1</th>\n",
              "      <td>11.82</td>\n",
              "      <td>1026</td>\n",
              "      <td>F</td>\n",
              "    </tr>\n",
              "    <tr>\n",
              "      <th>2</th>\n",
              "      <td>16.98</td>\n",
              "      <td>1033</td>\n",
              "      <td>F</td>\n",
              "    </tr>\n",
              "    <tr>\n",
              "      <th>3</th>\n",
              "      <td>14.04</td>\n",
              "      <td>1098</td>\n",
              "      <td>F</td>\n",
              "    </tr>\n",
              "    <tr>\n",
              "      <th>4</th>\n",
              "      <td>15.30</td>\n",
              "      <td>1122</td>\n",
              "      <td>F</td>\n",
              "    </tr>\n",
              "    <tr>\n",
              "      <th>...</th>\n",
              "      <td>...</td>\n",
              "      <td>...</td>\n",
              "      <td>...</td>\n",
              "    </tr>\n",
              "    <tr>\n",
              "      <th>167</th>\n",
              "      <td>45.31</td>\n",
              "      <td>2260</td>\n",
              "      <td>M</td>\n",
              "    </tr>\n",
              "    <tr>\n",
              "      <th>168</th>\n",
              "      <td>46.36</td>\n",
              "      <td>2285</td>\n",
              "      <td>M</td>\n",
              "    </tr>\n",
              "    <tr>\n",
              "      <th>169</th>\n",
              "      <td>39.30</td>\n",
              "      <td>2300</td>\n",
              "      <td>M</td>\n",
              "    </tr>\n",
              "    <tr>\n",
              "      <th>170</th>\n",
              "      <td>34.14</td>\n",
              "      <td>2333</td>\n",
              "      <td>M</td>\n",
              "    </tr>\n",
              "    <tr>\n",
              "      <th>172</th>\n",
              "      <td>40.59</td>\n",
              "      <td>2376</td>\n",
              "      <td>M</td>\n",
              "    </tr>\n",
              "  </tbody>\n",
              "</table>\n",
              "<p>172 rows × 3 columns</p>\n",
              "</div>"
            ],
            "text/plain": [
              "     Grasas_sat  Calorías Sexo\n",
              "0         14.60       910    F\n",
              "1         11.82      1026    F\n",
              "2         16.98      1033    F\n",
              "3         14.04      1098    F\n",
              "4         15.30      1122    F\n",
              "..          ...       ...  ...\n",
              "167       45.31      2260    M\n",
              "168       46.36      2285    M\n",
              "169       39.30      2300    M\n",
              "170       34.14      2333    M\n",
              "172       40.59      2376    M\n",
              "\n",
              "[172 rows x 3 columns]"
            ]
          },
          "execution_count": 627,
          "metadata": {},
          "output_type": "execute_result"
        }
      ],
      "source": [
        "fat_df = df[[SAT_FAT, CAL, GENDER]]\n",
        "fat_df = drop_rows_with_missing_vals(fat_df)\n",
        "fat_df"
      ]
    },
    {
      "cell_type": "code",
      "execution_count": 628,
      "metadata": {},
      "outputs": [
        {
          "data": {
            "text/html": [
              "<div>\n",
              "<style scoped>\n",
              "    .dataframe tbody tr th:only-of-type {\n",
              "        vertical-align: middle;\n",
              "    }\n",
              "\n",
              "    .dataframe tbody tr th {\n",
              "        vertical-align: top;\n",
              "    }\n",
              "\n",
              "    .dataframe thead th {\n",
              "        text-align: right;\n",
              "    }\n",
              "</style>\n",
              "<table border=\"1\" class=\"dataframe\">\n",
              "  <thead>\n",
              "    <tr style=\"text-align: right;\">\n",
              "      <th></th>\n",
              "      <th>Alcohol</th>\n",
              "      <th>Calorías</th>\n",
              "      <th>Sexo</th>\n",
              "    </tr>\n",
              "  </thead>\n",
              "  <tbody>\n",
              "    <tr>\n",
              "      <th>0</th>\n",
              "      <td>0.03</td>\n",
              "      <td>910</td>\n",
              "      <td>F</td>\n",
              "    </tr>\n",
              "    <tr>\n",
              "      <th>1</th>\n",
              "      <td>0.05</td>\n",
              "      <td>1026</td>\n",
              "      <td>F</td>\n",
              "    </tr>\n",
              "    <tr>\n",
              "      <th>2</th>\n",
              "      <td>0.14</td>\n",
              "      <td>1033</td>\n",
              "      <td>F</td>\n",
              "    </tr>\n",
              "    <tr>\n",
              "      <th>3</th>\n",
              "      <td>0.38</td>\n",
              "      <td>1098</td>\n",
              "      <td>F</td>\n",
              "    </tr>\n",
              "    <tr>\n",
              "      <th>4</th>\n",
              "      <td>0.38</td>\n",
              "      <td>1122</td>\n",
              "      <td>F</td>\n",
              "    </tr>\n",
              "    <tr>\n",
              "      <th>...</th>\n",
              "      <td>...</td>\n",
              "      <td>...</td>\n",
              "      <td>...</td>\n",
              "    </tr>\n",
              "    <tr>\n",
              "      <th>168</th>\n",
              "      <td>32.64</td>\n",
              "      <td>2285</td>\n",
              "      <td>M</td>\n",
              "    </tr>\n",
              "    <tr>\n",
              "      <th>169</th>\n",
              "      <td>32.72</td>\n",
              "      <td>2300</td>\n",
              "      <td>M</td>\n",
              "    </tr>\n",
              "    <tr>\n",
              "      <th>170</th>\n",
              "      <td>37.28</td>\n",
              "      <td>2333</td>\n",
              "      <td>M</td>\n",
              "    </tr>\n",
              "    <tr>\n",
              "      <th>171</th>\n",
              "      <td>37.90</td>\n",
              "      <td>2334</td>\n",
              "      <td>M</td>\n",
              "    </tr>\n",
              "    <tr>\n",
              "      <th>172</th>\n",
              "      <td>40.11</td>\n",
              "      <td>2376</td>\n",
              "      <td>M</td>\n",
              "    </tr>\n",
              "  </tbody>\n",
              "</table>\n",
              "<p>170 rows × 3 columns</p>\n",
              "</div>"
            ],
            "text/plain": [
              "     Alcohol  Calorías Sexo\n",
              "0       0.03       910    F\n",
              "1       0.05      1026    F\n",
              "2       0.14      1033    F\n",
              "3       0.38      1098    F\n",
              "4       0.38      1122    F\n",
              "..       ...       ...  ...\n",
              "168    32.64      2285    M\n",
              "169    32.72      2300    M\n",
              "170    37.28      2333    M\n",
              "171    37.90      2334    M\n",
              "172    40.11      2376    M\n",
              "\n",
              "[170 rows x 3 columns]"
            ]
          },
          "execution_count": 628,
          "metadata": {},
          "output_type": "execute_result"
        }
      ],
      "source": [
        "alcohol_df = df[[ALCOHOL, CAL, GENDER]]\n",
        "alcohol_df = drop_rows_with_missing_vals(alcohol_df)\n",
        "alcohol_df"
      ]
    },
    {
      "cell_type": "code",
      "execution_count": 629,
      "metadata": {},
      "outputs": [
        {
          "data": {
            "text/html": [
              "<div>\n",
              "<style scoped>\n",
              "    .dataframe tbody tr th:only-of-type {\n",
              "        vertical-align: middle;\n",
              "    }\n",
              "\n",
              "    .dataframe tbody tr th {\n",
              "        vertical-align: top;\n",
              "    }\n",
              "\n",
              "    .dataframe thead th {\n",
              "        text-align: right;\n",
              "    }\n",
              "</style>\n",
              "<table border=\"1\" class=\"dataframe\">\n",
              "  <thead>\n",
              "    <tr style=\"text-align: right;\">\n",
              "      <th></th>\n",
              "      <th>Calorías</th>\n",
              "      <th>Sexo</th>\n",
              "    </tr>\n",
              "  </thead>\n",
              "  <tbody>\n",
              "    <tr>\n",
              "      <th>0</th>\n",
              "      <td>910</td>\n",
              "      <td>F</td>\n",
              "    </tr>\n",
              "    <tr>\n",
              "      <th>1</th>\n",
              "      <td>1026</td>\n",
              "      <td>F</td>\n",
              "    </tr>\n",
              "    <tr>\n",
              "      <th>2</th>\n",
              "      <td>1033</td>\n",
              "      <td>F</td>\n",
              "    </tr>\n",
              "    <tr>\n",
              "      <th>3</th>\n",
              "      <td>1098</td>\n",
              "      <td>F</td>\n",
              "    </tr>\n",
              "    <tr>\n",
              "      <th>4</th>\n",
              "      <td>1122</td>\n",
              "      <td>F</td>\n",
              "    </tr>\n",
              "    <tr>\n",
              "      <th>...</th>\n",
              "      <td>...</td>\n",
              "      <td>...</td>\n",
              "    </tr>\n",
              "    <tr>\n",
              "      <th>168</th>\n",
              "      <td>2285</td>\n",
              "      <td>M</td>\n",
              "    </tr>\n",
              "    <tr>\n",
              "      <th>169</th>\n",
              "      <td>2300</td>\n",
              "      <td>M</td>\n",
              "    </tr>\n",
              "    <tr>\n",
              "      <th>170</th>\n",
              "      <td>2333</td>\n",
              "      <td>M</td>\n",
              "    </tr>\n",
              "    <tr>\n",
              "      <th>171</th>\n",
              "      <td>2334</td>\n",
              "      <td>M</td>\n",
              "    </tr>\n",
              "    <tr>\n",
              "      <th>172</th>\n",
              "      <td>2376</td>\n",
              "      <td>M</td>\n",
              "    </tr>\n",
              "  </tbody>\n",
              "</table>\n",
              "<p>173 rows × 2 columns</p>\n",
              "</div>"
            ],
            "text/plain": [
              "     Calorías Sexo\n",
              "0         910    F\n",
              "1        1026    F\n",
              "2        1033    F\n",
              "3        1098    F\n",
              "4        1122    F\n",
              "..        ...  ...\n",
              "168      2285    M\n",
              "169      2300    M\n",
              "170      2333    M\n",
              "171      2334    M\n",
              "172      2376    M\n",
              "\n",
              "[173 rows x 2 columns]"
            ]
          },
          "execution_count": 629,
          "metadata": {},
          "output_type": "execute_result"
        }
      ],
      "source": [
        "cal_df = df[[CAL, GENDER]]\n",
        "cal_df"
      ]
    },
    {
      "cell_type": "code",
      "execution_count": 630,
      "metadata": {
        "colab": {
          "base_uri": "https://localhost:8080/",
          "height": 49
        },
        "id": "iT_GENkfkZYa",
        "outputId": "d6efbaba-a9fb-4d68-9a9d-fc07074cfb60"
      },
      "outputs": [
        {
          "data": {
            "text/html": [
              "<div>\n",
              "<style scoped>\n",
              "    .dataframe tbody tr th:only-of-type {\n",
              "        vertical-align: middle;\n",
              "    }\n",
              "\n",
              "    .dataframe tbody tr th {\n",
              "        vertical-align: top;\n",
              "    }\n",
              "\n",
              "    .dataframe thead th {\n",
              "        text-align: right;\n",
              "    }\n",
              "</style>\n",
              "<table border=\"1\" class=\"dataframe\">\n",
              "  <thead>\n",
              "    <tr style=\"text-align: right;\">\n",
              "      <th></th>\n",
              "      <th>Grasas_sat</th>\n",
              "      <th>Alcohol</th>\n",
              "      <th>Calorías</th>\n",
              "      <th>Sexo</th>\n",
              "    </tr>\n",
              "  </thead>\n",
              "  <tbody>\n",
              "  </tbody>\n",
              "</table>\n",
              "</div>"
            ],
            "text/plain": [
              "Empty DataFrame\n",
              "Columns: [Grasas_sat, Alcohol, Calorías, Sexo]\n",
              "Index: []"
            ]
          },
          "execution_count": 630,
          "metadata": {},
          "output_type": "execute_result"
        }
      ],
      "source": [
        "rows_with_missing_val(nm_df)"
      ]
    },
    {
      "cell_type": "markdown",
      "metadata": {
        "id": "l8nmIoB-kZYb"
      },
      "source": [
        "## Numeric Variables\n",
        "2. a. Describa las principales caracterısticas que presentan los datos."
      ]
    },
    {
      "cell_type": "code",
      "execution_count": 631,
      "metadata": {},
      "outputs": [],
      "source": [
        "def df_to_compare_dist_normal_stats(c_df, i_df, c_df_label='Complete', i_df_label='Incomplete'):\n",
        "    data = {\n",
        "        c_df_label : [c_df.mean().iloc[0], c_df.std().iloc[0], c_df.skew().iloc[0], c_df.kurt().iloc[0]],\n",
        "        i_df_label : [i_df.mean().iloc[0], i_df.std().iloc[0], i_df.skew().iloc[0], i_df.kurt().iloc[0]]\n",
        "    }\n",
        "    return pd.DataFrame(data, index=[\"mean\", \"std\", \"skew\", \"kurt\"])"
      ]
    },
    {
      "cell_type": "code",
      "execution_count": 632,
      "metadata": {},
      "outputs": [],
      "source": [
        "def df_normal_stats(df):\n",
        "    data = {\n",
        "        'Values' : [df.mean().iloc[0], df.std().iloc[0], df.skew().iloc[0], df.kurt().iloc[0]]\n",
        "    }\n",
        "    return pd.DataFrame(data, index=[\"mean\", \"std\", \"skew\", \"kurt\"])"
      ]
    },
    {
      "cell_type": "code",
      "execution_count": 633,
      "metadata": {},
      "outputs": [],
      "source": [
        "def df_iqr(df):\n",
        "    quartiles = df.quantile(q=[0.25, 0.75])\n",
        "    return quartiles.iloc[1] - quartiles.iloc[0]"
      ]
    },
    {
      "cell_type": "code",
      "execution_count": 634,
      "metadata": {},
      "outputs": [],
      "source": [
        "def df_outliers(df, df_var):\n",
        "    iqr = df_iqr(df[[df_var]]).iloc[0]\n",
        "    q1 = df[[df_var]].quantile(q=[0.25]).iloc[0].iloc[0]\n",
        "    q3 = df[[df_var]].quantile(q=[0.75]).iloc[0].iloc[0]\n",
        "    sev_out_up = df[df[df_var] > q3 + 3*iqr].copy()\n",
        "    sev_out_up['Out_type'] = \"Severe Upper\"\n",
        "    mod_out_up = df[(df[df_var] > q3 + 1.5*iqr) & (df[df_var] <= q3 + 3*iqr) ].copy()\n",
        "    mod_out_up['Out_type'] = \"Moderate Upper\"\n",
        "    mod_out_low = df[(df[df_var] < q1 - 1.5*iqr) & (df[df_var] >= q1 - 3*iqr) ].copy()\n",
        "    mod_out_low['Out_type'] = \"Moderate Lower\"\n",
        "    sev_out_low = df[df[df_var] < q1 - 3*iqr].copy()\n",
        "    sev_out_low['Out_type'] = \"Severe Lower\"\n",
        "    return pd.concat([sev_out_up, mod_out_up, mod_out_low, sev_out_low])"
      ]
    },
    {
      "cell_type": "code",
      "execution_count": 635,
      "metadata": {},
      "outputs": [],
      "source": [
        "def df_outliers_nm(df, df_var):\n",
        "    var_df_out = df_outliers(df, df_var)\n",
        "    var_df_out = var_df_out[var_df_out[df_var] != MISSING_VAL]\n",
        "    return var_df_out"
      ]
    },
    {
      "cell_type": "code",
      "execution_count": 636,
      "metadata": {},
      "outputs": [],
      "source": [
        "def df_to_compare_dist_percentile_stats(c_df, i_df, c_df_label='Complete', i_df_label='Incomplete'):\n",
        "    data = {\n",
        "        c_df_label : [\n",
        "                        c_df.median().iloc[0], c_df.quantile(q=[0.25]).iloc[0].iloc[0], c_df.quantile(q=[0.75]).iloc[0].iloc[0], df_iqr(c_df).iloc[0], \n",
        "                        c_df.quantile(q=[0.25]).iloc[0].iloc[0] - 1.5*df_iqr(c_df).iloc[0],\n",
        "                        c_df.quantile(q=[0.75]).iloc[0].iloc[0] + 1.5*df_iqr(c_df).iloc[0],\n",
        "                        c_df.quantile(q=[0.25]).iloc[0].iloc[0] - 3*df_iqr(c_df).iloc[0],\n",
        "                        c_df.quantile(q=[0.75]).iloc[0].iloc[0] + 3*df_iqr(c_df).iloc[0]\n",
        "                    ],\n",
        "        i_df_label : [\n",
        "                        i_df.median().iloc[0], i_df.quantile(q=[0.25]).iloc[0].iloc[0], i_df.quantile(q=[0.75]).iloc[0].iloc[0], df_iqr(i_df).iloc[0],\n",
        "                        i_df.quantile(q=[0.25]).iloc[0].iloc[0] - 1.5*df_iqr(i_df).iloc[0],\n",
        "                        i_df.quantile(q=[0.75]).iloc[0].iloc[0] + 1.5*df_iqr(i_df).iloc[0],\n",
        "                        i_df.quantile(q=[0.25]).iloc[0].iloc[0] - 3*df_iqr(i_df).iloc[0],\n",
        "                        i_df.quantile(q=[0.75]).iloc[0].iloc[0] + 3*df_iqr(i_df).iloc[0]\n",
        "                    ]\n",
        "    }\n",
        "    return pd.DataFrame(data, index=[\"median\", \"q1\", \"q3\", \"iqr\", \"mod out low\", \"mod out up\", \"sev out low\", \"sev out up\"])"
      ]
    },
    {
      "cell_type": "code",
      "execution_count": 637,
      "metadata": {},
      "outputs": [],
      "source": [
        "def df_percentile_stats(df):\n",
        "    data = {\n",
        "        \"Values\" : [\n",
        "                        df.median().iloc[0], df.quantile(q=[0.25]).iloc[0].iloc[0], df.quantile(q=[0.75]).iloc[0].iloc[0], df_iqr(df).iloc[0], \n",
        "                        df.quantile(q=[0.25]).iloc[0].iloc[0] - 1.5*df_iqr(df).iloc[0],\n",
        "                        df.quantile(q=[0.75]).iloc[0].iloc[0] + 1.5*df_iqr(df).iloc[0],\n",
        "                        df.quantile(q=[0.25]).iloc[0].iloc[0] - 3*df_iqr(df).iloc[0],\n",
        "                        df.quantile(q=[0.75]).iloc[0].iloc[0] + 3*df_iqr(df).iloc[0]\n",
        "                    ]\n",
        "    }\n",
        "    return pd.DataFrame(data, index=[\"median\", \"q1\", \"q3\", \"iqr\", \"mod out low\", \"mod out up\", \"sev out low\", \"sev out up\"])"
      ]
    },
    {
      "cell_type": "code",
      "execution_count": 638,
      "metadata": {},
      "outputs": [
        {
          "data": {
            "text/html": [
              "<div>\n",
              "<style scoped>\n",
              "    .dataframe tbody tr th:only-of-type {\n",
              "        vertical-align: middle;\n",
              "    }\n",
              "\n",
              "    .dataframe tbody tr th {\n",
              "        vertical-align: top;\n",
              "    }\n",
              "\n",
              "    .dataframe thead th {\n",
              "        text-align: right;\n",
              "    }\n",
              "</style>\n",
              "<table border=\"1\" class=\"dataframe\">\n",
              "  <thead>\n",
              "    <tr style=\"text-align: right;\">\n",
              "      <th></th>\n",
              "      <th>Grasas_sat</th>\n",
              "    </tr>\n",
              "  </thead>\n",
              "  <tbody>\n",
              "    <tr>\n",
              "      <th>21</th>\n",
              "      <td>36.31</td>\n",
              "    </tr>\n",
              "    <tr>\n",
              "      <th>24</th>\n",
              "      <td>41.01</td>\n",
              "    </tr>\n",
              "    <tr>\n",
              "      <th>162</th>\n",
              "      <td>27.08</td>\n",
              "    </tr>\n",
              "  </tbody>\n",
              "</table>\n",
              "</div>"
            ],
            "text/plain": [
              "     Grasas_sat\n",
              "21        36.31\n",
              "24        41.01\n",
              "162       27.08"
            ]
          },
          "execution_count": 638,
          "metadata": {},
          "output_type": "execute_result"
        }
      ],
      "source": [
        "drop_rows_with_missing_vals(mv_df[[SAT_FAT]])"
      ]
    },
    {
      "cell_type": "code",
      "execution_count": 639,
      "metadata": {},
      "outputs": [
        {
          "data": {
            "image/png": "[encoded data removed]",
            "text/plain": [
              "<Figure size 640x480 with 2 Axes>"
            ]
          },
          "metadata": {},
          "output_type": "display_data"
        }
      ],
      "source": [
        "figure, axis = plt.subplots(1, 2)\n",
        "sns.boxplot(y=SAT_FAT, data=fat_df,             ax=axis[0], color=\"pink\")\n",
        "sns.boxplot(y=SAT_FAT, data=nm_df[[SAT_FAT]],   ax=axis[1], color=\"pink\")\n",
        "axis[0].set_title(\"Only complete rows\")\n",
        "axis[0].set_ylabel(\"Saturated fat intake\")\n",
        "axis[1].set_title(\"With incomplete rows\")\n",
        "axis[1].set_ylabel(\"\")\n",
        "figure.suptitle(\"Complete vs Incomplete\")\n",
        "figure.tight_layout()\n",
        "plt.show()"
      ]
    },
    {
      "cell_type": "code",
      "execution_count": 640,
      "metadata": {},
      "outputs": [
        {
          "data": {
            "text/html": [
              "<div>\n",
              "<style scoped>\n",
              "    .dataframe tbody tr th:only-of-type {\n",
              "        vertical-align: middle;\n",
              "    }\n",
              "\n",
              "    .dataframe tbody tr th {\n",
              "        vertical-align: top;\n",
              "    }\n",
              "\n",
              "    .dataframe thead th {\n",
              "        text-align: right;\n",
              "    }\n",
              "</style>\n",
              "<table border=\"1\" class=\"dataframe\">\n",
              "  <thead>\n",
              "    <tr style=\"text-align: right;\">\n",
              "      <th></th>\n",
              "      <th>Complete</th>\n",
              "      <th>Incomplete</th>\n",
              "    </tr>\n",
              "  </thead>\n",
              "  <tbody>\n",
              "    <tr>\n",
              "      <th>median</th>\n",
              "      <td>24.13000</td>\n",
              "      <td>24.090</td>\n",
              "    </tr>\n",
              "    <tr>\n",
              "      <th>q1</th>\n",
              "      <td>20.16750</td>\n",
              "      <td>20.070</td>\n",
              "    </tr>\n",
              "    <tr>\n",
              "      <th>q3</th>\n",
              "      <td>28.09500</td>\n",
              "      <td>28.020</td>\n",
              "    </tr>\n",
              "    <tr>\n",
              "      <th>iqr</th>\n",
              "      <td>7.92750</td>\n",
              "      <td>7.950</td>\n",
              "    </tr>\n",
              "    <tr>\n",
              "      <th>mod out low</th>\n",
              "      <td>8.27625</td>\n",
              "      <td>8.145</td>\n",
              "    </tr>\n",
              "    <tr>\n",
              "      <th>mod out up</th>\n",
              "      <td>39.98625</td>\n",
              "      <td>39.945</td>\n",
              "    </tr>\n",
              "    <tr>\n",
              "      <th>sev out low</th>\n",
              "      <td>-3.61500</td>\n",
              "      <td>-3.780</td>\n",
              "    </tr>\n",
              "    <tr>\n",
              "      <th>sev out up</th>\n",
              "      <td>51.87750</td>\n",
              "      <td>51.870</td>\n",
              "    </tr>\n",
              "  </tbody>\n",
              "</table>\n",
              "</div>"
            ],
            "text/plain": [
              "             Complete  Incomplete\n",
              "median       24.13000      24.090\n",
              "q1           20.16750      20.070\n",
              "q3           28.09500      28.020\n",
              "iqr           7.92750       7.950\n",
              "mod out low   8.27625       8.145\n",
              "mod out up   39.98625      39.945\n",
              "sev out low  -3.61500      -3.780\n",
              "sev out up   51.87750      51.870"
            ]
          },
          "execution_count": 640,
          "metadata": {},
          "output_type": "execute_result"
        }
      ],
      "source": [
        "df_to_compare_dist_percentile_stats(fat_df[[SAT_FAT]], nm_df[[SAT_FAT]])"
      ]
    },
    {
      "cell_type": "code",
      "execution_count": 641,
      "metadata": {},
      "outputs": [
        {
          "data": {
            "text/html": [
              "<div>\n",
              "<style scoped>\n",
              "    .dataframe tbody tr th:only-of-type {\n",
              "        vertical-align: middle;\n",
              "    }\n",
              "\n",
              "    .dataframe tbody tr th {\n",
              "        vertical-align: top;\n",
              "    }\n",
              "\n",
              "    .dataframe thead th {\n",
              "        text-align: right;\n",
              "    }\n",
              "</style>\n",
              "<table border=\"1\" class=\"dataframe\">\n",
              "  <thead>\n",
              "    <tr style=\"text-align: right;\">\n",
              "      <th></th>\n",
              "      <th>Grasas_sat</th>\n",
              "      <th>Alcohol</th>\n",
              "      <th>Calorías</th>\n",
              "      <th>Sexo</th>\n",
              "      <th>Out_type</th>\n",
              "    </tr>\n",
              "  </thead>\n",
              "  <tbody>\n",
              "    <tr>\n",
              "      <th>24</th>\n",
              "      <td>41.01</td>\n",
              "      <td>999.99</td>\n",
              "      <td>800</td>\n",
              "      <td>F</td>\n",
              "      <td>Moderate Upper</td>\n",
              "    </tr>\n",
              "    <tr>\n",
              "      <th>167</th>\n",
              "      <td>45.31</td>\n",
              "      <td>31.26</td>\n",
              "      <td>2260</td>\n",
              "      <td>M</td>\n",
              "      <td>Moderate Upper</td>\n",
              "    </tr>\n",
              "    <tr>\n",
              "      <th>168</th>\n",
              "      <td>46.36</td>\n",
              "      <td>32.64</td>\n",
              "      <td>2285</td>\n",
              "      <td>M</td>\n",
              "      <td>Moderate Upper</td>\n",
              "    </tr>\n",
              "    <tr>\n",
              "      <th>172</th>\n",
              "      <td>40.59</td>\n",
              "      <td>40.11</td>\n",
              "      <td>2376</td>\n",
              "      <td>M</td>\n",
              "      <td>Moderate Upper</td>\n",
              "    </tr>\n",
              "  </tbody>\n",
              "</table>\n",
              "</div>"
            ],
            "text/plain": [
              "     Grasas_sat  Alcohol  Calorías Sexo        Out_type\n",
              "24        41.01   999.99       800    F  Moderate Upper\n",
              "167       45.31    31.26      2260    M  Moderate Upper\n",
              "168       46.36    32.64      2285    M  Moderate Upper\n",
              "172       40.59    40.11      2376    M  Moderate Upper"
            ]
          },
          "execution_count": 641,
          "metadata": {},
          "output_type": "execute_result"
        }
      ],
      "source": [
        "fat_df_out = df_outliers(df, SAT_FAT)\n",
        "fat_df_out = fat_df_out[fat_df_out[SAT_FAT] != MISSING_VAL]\n",
        "fat_df_out"
      ]
    },
    {
      "cell_type": "code",
      "execution_count": 642,
      "metadata": {},
      "outputs": [
        {
          "data": {
            "image/png": "[encoded data removed]",
            "text/plain": [
              "<Figure size 640x480 with 2 Axes>"
            ]
          },
          "metadata": {},
          "output_type": "display_data"
        }
      ],
      "source": [
        "figure, axis = plt.subplots(1, 2)\n",
        "sns.histplot(x=SAT_FAT, data=fat_df,             ax=axis[0], color=\"pink\", bins=(math.ceil(math.log2(fat_df.shape[0]))+1))\n",
        "sns.histplot(x=SAT_FAT, data=nm_df[[SAT_FAT]],   ax=axis[1], color=\"pink\", bins=(math.ceil(math.log2(nm_df[[SAT_FAT]].shape[0]))+1))\n",
        "axis[0].set_title(\"Only complete rows\")\n",
        "axis[0].set_ylabel(None)\n",
        "axis[0].set_xlabel(None)\n",
        "axis[0].set_ylim([0, 50])\n",
        "axis[1].set_title(\"With incomplete rows\")\n",
        "axis[1].set_ylabel(None)\n",
        "axis[1].set_xlabel(None)\n",
        "axis[1].set_ylim([0, 50])\n",
        "figure.suptitle(\"Complete vs Incomplete\")\n",
        "figure.supxlabel(\"Saturated fat intake\")\n",
        "figure.supylabel(\"Frequence\")\n",
        "figure.tight_layout()\n",
        "plt.show()"
      ]
    },
    {
      "cell_type": "code",
      "execution_count": 643,
      "metadata": {},
      "outputs": [
        {
          "data": {
            "text/html": [
              "<div>\n",
              "<style scoped>\n",
              "    .dataframe tbody tr th:only-of-type {\n",
              "        vertical-align: middle;\n",
              "    }\n",
              "\n",
              "    .dataframe tbody tr th {\n",
              "        vertical-align: top;\n",
              "    }\n",
              "\n",
              "    .dataframe thead th {\n",
              "        text-align: right;\n",
              "    }\n",
              "</style>\n",
              "<table border=\"1\" class=\"dataframe\">\n",
              "  <thead>\n",
              "    <tr style=\"text-align: right;\">\n",
              "      <th></th>\n",
              "      <th>Complete</th>\n",
              "      <th>Incomplete</th>\n",
              "    </tr>\n",
              "  </thead>\n",
              "  <tbody>\n",
              "    <tr>\n",
              "      <th>mean</th>\n",
              "      <td>24.774302</td>\n",
              "      <td>24.596331</td>\n",
              "    </tr>\n",
              "    <tr>\n",
              "      <th>std</th>\n",
              "      <td>6.533947</td>\n",
              "      <td>6.405481</td>\n",
              "    </tr>\n",
              "    <tr>\n",
              "      <th>skew</th>\n",
              "      <td>0.662412</td>\n",
              "      <td>0.666595</td>\n",
              "    </tr>\n",
              "    <tr>\n",
              "      <th>kurt</th>\n",
              "      <td>0.492250</td>\n",
              "      <td>0.606854</td>\n",
              "    </tr>\n",
              "  </tbody>\n",
              "</table>\n",
              "</div>"
            ],
            "text/plain": [
              "       Complete  Incomplete\n",
              "mean  24.774302   24.596331\n",
              "std    6.533947    6.405481\n",
              "skew   0.662412    0.666595\n",
              "kurt   0.492250    0.606854"
            ]
          },
          "execution_count": 643,
          "metadata": {},
          "output_type": "execute_result"
        }
      ],
      "source": [
        "df_to_compare_dist_normal_stats(fat_df[[SAT_FAT]], nm_df[[SAT_FAT]])"
      ]
    },
    {
      "cell_type": "code",
      "execution_count": 644,
      "metadata": {},
      "outputs": [
        {
          "data": {
            "text/html": [
              "<div>\n",
              "<style scoped>\n",
              "    .dataframe tbody tr th:only-of-type {\n",
              "        vertical-align: middle;\n",
              "    }\n",
              "\n",
              "    .dataframe tbody tr th {\n",
              "        vertical-align: top;\n",
              "    }\n",
              "\n",
              "    .dataframe thead th {\n",
              "        text-align: right;\n",
              "    }\n",
              "</style>\n",
              "<table border=\"1\" class=\"dataframe\">\n",
              "  <thead>\n",
              "    <tr style=\"text-align: right;\">\n",
              "      <th></th>\n",
              "      <th>Alcohol</th>\n",
              "    </tr>\n",
              "  </thead>\n",
              "  <tbody>\n",
              "    <tr>\n",
              "      <th>171</th>\n",
              "      <td>37.9</td>\n",
              "    </tr>\n",
              "  </tbody>\n",
              "</table>\n",
              "</div>"
            ],
            "text/plain": [
              "     Alcohol\n",
              "171     37.9"
            ]
          },
          "execution_count": 644,
          "metadata": {},
          "output_type": "execute_result"
        }
      ],
      "source": [
        "drop_rows_with_missing_vals(mv_df[[ALCOHOL]])"
      ]
    },
    {
      "cell_type": "code",
      "execution_count": 645,
      "metadata": {},
      "outputs": [
        {
          "data": {
            "image/png": "[encoded data removed]",
            "text/plain": [
              "<Figure size 640x480 with 2 Axes>"
            ]
          },
          "metadata": {},
          "output_type": "display_data"
        }
      ],
      "source": [
        "figure, axis = plt.subplots(1, 2)\n",
        "sns.boxplot(y=ALCOHOL, data=alcohol_df,         ax=axis[0], color=\"turquoise\")\n",
        "sns.boxplot(y=ALCOHOL, data=nm_df[[ALCOHOL]],   ax=axis[1], color=\"turquoise\")\n",
        "axis[0].set_title(\"Only complete rows\")\n",
        "axis[0].set_ylabel(\"Alcohol intake\")\n",
        "axis[1].set_title(\"With incomplete rows\")\n",
        "axis[1].set_ylabel(\"\")\n",
        "figure.suptitle(\"Complete vs Incomplete\")\n",
        "figure.tight_layout()\n",
        "plt.show()"
      ]
    },
    {
      "cell_type": "code",
      "execution_count": 646,
      "metadata": {},
      "outputs": [
        {
          "data": {
            "text/html": [
              "<div>\n",
              "<style scoped>\n",
              "    .dataframe tbody tr th:only-of-type {\n",
              "        vertical-align: middle;\n",
              "    }\n",
              "\n",
              "    .dataframe tbody tr th {\n",
              "        vertical-align: top;\n",
              "    }\n",
              "\n",
              "    .dataframe thead th {\n",
              "        text-align: right;\n",
              "    }\n",
              "</style>\n",
              "<table border=\"1\" class=\"dataframe\">\n",
              "  <thead>\n",
              "    <tr style=\"text-align: right;\">\n",
              "      <th></th>\n",
              "      <th>Complete</th>\n",
              "      <th>Incomplete</th>\n",
              "    </tr>\n",
              "  </thead>\n",
              "  <tbody>\n",
              "    <tr>\n",
              "      <th>median</th>\n",
              "      <td>5.9050</td>\n",
              "      <td>5.840</td>\n",
              "    </tr>\n",
              "    <tr>\n",
              "      <th>q1</th>\n",
              "      <td>1.7800</td>\n",
              "      <td>1.760</td>\n",
              "    </tr>\n",
              "    <tr>\n",
              "      <th>q3</th>\n",
              "      <td>12.9650</td>\n",
              "      <td>12.950</td>\n",
              "    </tr>\n",
              "    <tr>\n",
              "      <th>iqr</th>\n",
              "      <td>11.1850</td>\n",
              "      <td>11.190</td>\n",
              "    </tr>\n",
              "    <tr>\n",
              "      <th>mod out low</th>\n",
              "      <td>-14.9975</td>\n",
              "      <td>-15.025</td>\n",
              "    </tr>\n",
              "    <tr>\n",
              "      <th>mod out up</th>\n",
              "      <td>29.7425</td>\n",
              "      <td>29.735</td>\n",
              "    </tr>\n",
              "    <tr>\n",
              "      <th>sev out low</th>\n",
              "      <td>-31.7750</td>\n",
              "      <td>-31.810</td>\n",
              "    </tr>\n",
              "    <tr>\n",
              "      <th>sev out up</th>\n",
              "      <td>46.5200</td>\n",
              "      <td>46.520</td>\n",
              "    </tr>\n",
              "  </tbody>\n",
              "</table>\n",
              "</div>"
            ],
            "text/plain": [
              "             Complete  Incomplete\n",
              "median         5.9050       5.840\n",
              "q1             1.7800       1.760\n",
              "q3            12.9650      12.950\n",
              "iqr           11.1850      11.190\n",
              "mod out low  -14.9975     -15.025\n",
              "mod out up    29.7425      29.735\n",
              "sev out low  -31.7750     -31.810\n",
              "sev out up    46.5200      46.520"
            ]
          },
          "execution_count": 646,
          "metadata": {},
          "output_type": "execute_result"
        }
      ],
      "source": [
        "df_to_compare_dist_percentile_stats(alcohol_df[[ALCOHOL]], nm_df[[ALCOHOL]])"
      ]
    },
    {
      "cell_type": "code",
      "execution_count": 647,
      "metadata": {},
      "outputs": [
        {
          "data": {
            "text/html": [
              "<div>\n",
              "<style scoped>\n",
              "    .dataframe tbody tr th:only-of-type {\n",
              "        vertical-align: middle;\n",
              "    }\n",
              "\n",
              "    .dataframe tbody tr th {\n",
              "        vertical-align: top;\n",
              "    }\n",
              "\n",
              "    .dataframe thead th {\n",
              "        text-align: right;\n",
              "    }\n",
              "</style>\n",
              "<table border=\"1\" class=\"dataframe\">\n",
              "  <thead>\n",
              "    <tr style=\"text-align: right;\">\n",
              "      <th></th>\n",
              "      <th>Grasas_sat</th>\n",
              "      <th>Alcohol</th>\n",
              "      <th>Calorías</th>\n",
              "      <th>Sexo</th>\n",
              "      <th>Out_type</th>\n",
              "    </tr>\n",
              "  </thead>\n",
              "  <tbody>\n",
              "    <tr>\n",
              "      <th>168</th>\n",
              "      <td>46.36</td>\n",
              "      <td>32.64</td>\n",
              "      <td>2285</td>\n",
              "      <td>M</td>\n",
              "      <td>Moderate Upper</td>\n",
              "    </tr>\n",
              "    <tr>\n",
              "      <th>169</th>\n",
              "      <td>39.30</td>\n",
              "      <td>32.72</td>\n",
              "      <td>2300</td>\n",
              "      <td>M</td>\n",
              "      <td>Moderate Upper</td>\n",
              "    </tr>\n",
              "    <tr>\n",
              "      <th>170</th>\n",
              "      <td>34.14</td>\n",
              "      <td>37.28</td>\n",
              "      <td>2333</td>\n",
              "      <td>M</td>\n",
              "      <td>Moderate Upper</td>\n",
              "    </tr>\n",
              "    <tr>\n",
              "      <th>171</th>\n",
              "      <td>999.99</td>\n",
              "      <td>37.90</td>\n",
              "      <td>2334</td>\n",
              "      <td>M</td>\n",
              "      <td>Moderate Upper</td>\n",
              "    </tr>\n",
              "    <tr>\n",
              "      <th>172</th>\n",
              "      <td>40.59</td>\n",
              "      <td>40.11</td>\n",
              "      <td>2376</td>\n",
              "      <td>M</td>\n",
              "      <td>Moderate Upper</td>\n",
              "    </tr>\n",
              "  </tbody>\n",
              "</table>\n",
              "</div>"
            ],
            "text/plain": [
              "     Grasas_sat  Alcohol  Calorías Sexo        Out_type\n",
              "168       46.36    32.64      2285    M  Moderate Upper\n",
              "169       39.30    32.72      2300    M  Moderate Upper\n",
              "170       34.14    37.28      2333    M  Moderate Upper\n",
              "171      999.99    37.90      2334    M  Moderate Upper\n",
              "172       40.59    40.11      2376    M  Moderate Upper"
            ]
          },
          "execution_count": 647,
          "metadata": {},
          "output_type": "execute_result"
        }
      ],
      "source": [
        "alcohol_df_out = df_outliers(df, ALCOHOL)\n",
        "alcohol_df_out = alcohol_df_out[alcohol_df_out[ALCOHOL] != MISSING_VAL]\n",
        "alcohol_df_out"
      ]
    },
    {
      "cell_type": "code",
      "execution_count": 648,
      "metadata": {},
      "outputs": [
        {
          "data": {
            "image/png": "[encoded data removed]",
            "text/plain": [
              "<Figure size 640x480 with 2 Axes>"
            ]
          },
          "metadata": {},
          "output_type": "display_data"
        }
      ],
      "source": [
        "figure, axis = plt.subplots(1, 2)\n",
        "sns.histplot(x=ALCOHOL, data=alcohol_df,         ax=axis[0], color=\"turquoise\", bins=(math.ceil(math.log2(alcohol_df.shape[0]))+1))\n",
        "sns.histplot(x=ALCOHOL, data=nm_df[[ALCOHOL]],   ax=axis[1], color=\"turquoise\", bins=(math.ceil(math.log2(nm_df[[ALCOHOL]].shape[0]))+1))\n",
        "axis[0].set_title(\"Only complete rows\")\n",
        "axis[0].set_ylabel(None)\n",
        "axis[0].set_xlabel(None)\n",
        "axis[0].set_ylim([0, 75])\n",
        "axis[1].set_title(\"With incomplete rows\")\n",
        "axis[1].set_ylabel(None)\n",
        "axis[1].set_xlabel(None)\n",
        "axis[1].set_ylim([0, 75])\n",
        "figure.suptitle(\"Complete vs Incomplete\")\n",
        "figure.supylabel(\"Frequence\")\n",
        "figure.supxlabel(\"Alcohol intake\")\n",
        "figure.tight_layout()\n",
        "plt.show()"
      ]
    },
    {
      "cell_type": "code",
      "execution_count": 649,
      "metadata": {},
      "outputs": [
        {
          "data": {
            "text/html": [
              "<div>\n",
              "<style scoped>\n",
              "    .dataframe tbody tr th:only-of-type {\n",
              "        vertical-align: middle;\n",
              "    }\n",
              "\n",
              "    .dataframe tbody tr th {\n",
              "        vertical-align: top;\n",
              "    }\n",
              "\n",
              "    .dataframe thead th {\n",
              "        text-align: right;\n",
              "    }\n",
              "</style>\n",
              "<table border=\"1\" class=\"dataframe\">\n",
              "  <thead>\n",
              "    <tr style=\"text-align: right;\">\n",
              "      <th></th>\n",
              "      <th>Complete</th>\n",
              "      <th>Incomplete</th>\n",
              "    </tr>\n",
              "  </thead>\n",
              "  <tbody>\n",
              "    <tr>\n",
              "      <th>mean</th>\n",
              "      <td>8.832000</td>\n",
              "      <td>8.660000</td>\n",
              "    </tr>\n",
              "    <tr>\n",
              "      <th>std</th>\n",
              "      <td>9.193883</td>\n",
              "      <td>8.942674</td>\n",
              "    </tr>\n",
              "    <tr>\n",
              "      <th>skew</th>\n",
              "      <td>1.333578</td>\n",
              "      <td>1.309404</td>\n",
              "    </tr>\n",
              "    <tr>\n",
              "      <th>kurt</th>\n",
              "      <td>1.198597</td>\n",
              "      <td>1.138140</td>\n",
              "    </tr>\n",
              "  </tbody>\n",
              "</table>\n",
              "</div>"
            ],
            "text/plain": [
              "      Complete  Incomplete\n",
              "mean  8.832000    8.660000\n",
              "std   9.193883    8.942674\n",
              "skew  1.333578    1.309404\n",
              "kurt  1.198597    1.138140"
            ]
          },
          "execution_count": 649,
          "metadata": {},
          "output_type": "execute_result"
        }
      ],
      "source": [
        "df_to_compare_dist_normal_stats(alcohol_df[[ALCOHOL]], nm_df[[ALCOHOL]])"
      ]
    },
    {
      "cell_type": "code",
      "execution_count": 650,
      "metadata": {},
      "outputs": [
        {
          "data": {
            "image/png": "[encoded data removed]",
            "text/plain": [
              "<Figure size 640x480 with 1 Axes>"
            ]
          },
          "metadata": {},
          "output_type": "display_data"
        }
      ],
      "source": [
        "sns.boxplot(y=CAL, data=cal_df, color=\"#FFDFD3\")\n",
        "plt.title(\"Calorie intake\")\n",
        "plt.ylabel(\"Calorie intake\")\n",
        "plt.show()"
      ]
    },
    {
      "cell_type": "code",
      "execution_count": 651,
      "metadata": {},
      "outputs": [
        {
          "data": {
            "text/html": [
              "<div>\n",
              "<style scoped>\n",
              "    .dataframe tbody tr th:only-of-type {\n",
              "        vertical-align: middle;\n",
              "    }\n",
              "\n",
              "    .dataframe tbody tr th {\n",
              "        vertical-align: top;\n",
              "    }\n",
              "\n",
              "    .dataframe thead th {\n",
              "        text-align: right;\n",
              "    }\n",
              "</style>\n",
              "<table border=\"1\" class=\"dataframe\">\n",
              "  <thead>\n",
              "    <tr style=\"text-align: right;\">\n",
              "      <th></th>\n",
              "      <th>Values</th>\n",
              "    </tr>\n",
              "  </thead>\n",
              "  <tbody>\n",
              "    <tr>\n",
              "      <th>median</th>\n",
              "      <td>1585.0</td>\n",
              "    </tr>\n",
              "    <tr>\n",
              "      <th>q1</th>\n",
              "      <td>1400.0</td>\n",
              "    </tr>\n",
              "    <tr>\n",
              "      <th>q3</th>\n",
              "      <td>1761.0</td>\n",
              "    </tr>\n",
              "    <tr>\n",
              "      <th>iqr</th>\n",
              "      <td>361.0</td>\n",
              "    </tr>\n",
              "    <tr>\n",
              "      <th>mod out low</th>\n",
              "      <td>858.5</td>\n",
              "    </tr>\n",
              "    <tr>\n",
              "      <th>mod out up</th>\n",
              "      <td>2302.5</td>\n",
              "    </tr>\n",
              "    <tr>\n",
              "      <th>sev out low</th>\n",
              "      <td>317.0</td>\n",
              "    </tr>\n",
              "    <tr>\n",
              "      <th>sev out up</th>\n",
              "      <td>2844.0</td>\n",
              "    </tr>\n",
              "  </tbody>\n",
              "</table>\n",
              "</div>"
            ],
            "text/plain": [
              "             Values\n",
              "median       1585.0\n",
              "q1           1400.0\n",
              "q3           1761.0\n",
              "iqr           361.0\n",
              "mod out low   858.5\n",
              "mod out up   2302.5\n",
              "sev out low   317.0\n",
              "sev out up   2844.0"
            ]
          },
          "execution_count": 651,
          "metadata": {},
          "output_type": "execute_result"
        }
      ],
      "source": [
        "df_percentile_stats(cal_df[[CAL]])"
      ]
    },
    {
      "cell_type": "code",
      "execution_count": 652,
      "metadata": {},
      "outputs": [
        {
          "data": {
            "text/html": [
              "<div>\n",
              "<style scoped>\n",
              "    .dataframe tbody tr th:only-of-type {\n",
              "        vertical-align: middle;\n",
              "    }\n",
              "\n",
              "    .dataframe tbody tr th {\n",
              "        vertical-align: top;\n",
              "    }\n",
              "\n",
              "    .dataframe thead th {\n",
              "        text-align: right;\n",
              "    }\n",
              "</style>\n",
              "<table border=\"1\" class=\"dataframe\">\n",
              "  <thead>\n",
              "    <tr style=\"text-align: right;\">\n",
              "      <th></th>\n",
              "      <th>Grasas_sat</th>\n",
              "      <th>Alcohol</th>\n",
              "      <th>Calorías</th>\n",
              "      <th>Sexo</th>\n",
              "      <th>Out_type</th>\n",
              "    </tr>\n",
              "  </thead>\n",
              "  <tbody>\n",
              "    <tr>\n",
              "      <th>170</th>\n",
              "      <td>34.14</td>\n",
              "      <td>37.28</td>\n",
              "      <td>2333</td>\n",
              "      <td>M</td>\n",
              "      <td>Moderate Upper</td>\n",
              "    </tr>\n",
              "    <tr>\n",
              "      <th>171</th>\n",
              "      <td>999.99</td>\n",
              "      <td>37.90</td>\n",
              "      <td>2334</td>\n",
              "      <td>M</td>\n",
              "      <td>Moderate Upper</td>\n",
              "    </tr>\n",
              "    <tr>\n",
              "      <th>172</th>\n",
              "      <td>40.59</td>\n",
              "      <td>40.11</td>\n",
              "      <td>2376</td>\n",
              "      <td>M</td>\n",
              "      <td>Moderate Upper</td>\n",
              "    </tr>\n",
              "    <tr>\n",
              "      <th>24</th>\n",
              "      <td>41.01</td>\n",
              "      <td>999.99</td>\n",
              "      <td>800</td>\n",
              "      <td>F</td>\n",
              "      <td>Moderate Lower</td>\n",
              "    </tr>\n",
              "  </tbody>\n",
              "</table>\n",
              "</div>"
            ],
            "text/plain": [
              "     Grasas_sat  Alcohol  Calorías Sexo        Out_type\n",
              "170       34.14    37.28      2333    M  Moderate Upper\n",
              "171      999.99    37.90      2334    M  Moderate Upper\n",
              "172       40.59    40.11      2376    M  Moderate Upper\n",
              "24        41.01   999.99       800    F  Moderate Lower"
            ]
          },
          "execution_count": 652,
          "metadata": {},
          "output_type": "execute_result"
        }
      ],
      "source": [
        "cal_df_out = df_outliers(df, CAL)\n",
        "cal_df_out"
      ]
    },
    {
      "cell_type": "code",
      "execution_count": 653,
      "metadata": {},
      "outputs": [
        {
          "data": {
            "image/png": "[encoded data removed]",
            "text/plain": [
              "<Figure size 640x480 with 1 Axes>"
            ]
          },
          "metadata": {},
          "output_type": "display_data"
        }
      ],
      "source": [
        "sns.histplot(x=CAL, data=cal_df, color=\"#FFDFD3\", bins=(math.ceil(math.log2(cal_df.shape[0]))+1))\n",
        "plt.title(\"Calorie intake\")\n",
        "plt.xlabel(\"Calorie intake\")\n",
        "plt.ylabel(\"Frequency\")\n",
        "plt.show()"
      ]
    },
    {
      "cell_type": "code",
      "execution_count": 654,
      "metadata": {},
      "outputs": [
        {
          "data": {
            "text/html": [
              "<div>\n",
              "<style scoped>\n",
              "    .dataframe tbody tr th:only-of-type {\n",
              "        vertical-align: middle;\n",
              "    }\n",
              "\n",
              "    .dataframe tbody tr th {\n",
              "        vertical-align: top;\n",
              "    }\n",
              "\n",
              "    .dataframe thead th {\n",
              "        text-align: right;\n",
              "    }\n",
              "</style>\n",
              "<table border=\"1\" class=\"dataframe\">\n",
              "  <thead>\n",
              "    <tr style=\"text-align: right;\">\n",
              "      <th></th>\n",
              "      <th>Values</th>\n",
              "    </tr>\n",
              "  </thead>\n",
              "  <tbody>\n",
              "    <tr>\n",
              "      <th>mean</th>\n",
              "      <td>1584.554913</td>\n",
              "    </tr>\n",
              "    <tr>\n",
              "      <th>std</th>\n",
              "      <td>305.080991</td>\n",
              "    </tr>\n",
              "    <tr>\n",
              "      <th>skew</th>\n",
              "      <td>0.112333</td>\n",
              "    </tr>\n",
              "    <tr>\n",
              "      <th>kurt</th>\n",
              "      <td>0.186980</td>\n",
              "    </tr>\n",
              "  </tbody>\n",
              "</table>\n",
              "</div>"
            ],
            "text/plain": [
              "           Values\n",
              "mean  1584.554913\n",
              "std    305.080991\n",
              "skew     0.112333\n",
              "kurt     0.186980"
            ]
          },
          "execution_count": 654,
          "metadata": {},
          "output_type": "execute_result"
        }
      ],
      "source": [
        "df_normal_stats(cal_df[[CAL]])"
      ]
    },
    {
      "cell_type": "markdown",
      "metadata": {
        "id": "b9nhYmqSl8Bp"
      },
      "source": [
        "## Boxplots\n",
        "2. b. Realizar gráficos boxplots. En todos los casos debe comentar los resultados."
      ]
    },
    {
      "cell_type": "code",
      "execution_count": 655,
      "metadata": {
        "colab": {
          "base_uri": "https://localhost:8080/",
          "height": 472
        },
        "id": "A9f6Sjd2l9Xl",
        "outputId": "ac7155ec-41da-42ba-b8dc-1a32bc2f173b"
      },
      "outputs": [
        {
          "data": {
            "image/png": "[encoded data removed]",
            "text/plain": [
              "<Figure size 640x480 with 1 Axes>"
            ]
          },
          "metadata": {},
          "output_type": "display_data"
        }
      ],
      "source": [
        "plt.figure()\n",
        "sns.boxplot(x=GENDER, y=SAT_FAT, data=nm_df)\n",
        "plt.title('Boxplot of Saturated Fats Intake by Gender')\n",
        "plt.xlabel('Gender')\n",
        "plt.ylabel('Saturated Fats Intake')\n",
        "plt.show()"
      ]
    },
    {
      "cell_type": "code",
      "execution_count": 656,
      "metadata": {},
      "outputs": [
        {
          "data": {
            "text/html": [
              "<div>\n",
              "<style scoped>\n",
              "    .dataframe tbody tr th:only-of-type {\n",
              "        vertical-align: middle;\n",
              "    }\n",
              "\n",
              "    .dataframe tbody tr th {\n",
              "        vertical-align: top;\n",
              "    }\n",
              "\n",
              "    .dataframe thead th {\n",
              "        text-align: right;\n",
              "    }\n",
              "</style>\n",
              "<table border=\"1\" class=\"dataframe\">\n",
              "  <thead>\n",
              "    <tr style=\"text-align: right;\">\n",
              "      <th></th>\n",
              "      <th>F</th>\n",
              "      <th>M</th>\n",
              "    </tr>\n",
              "  </thead>\n",
              "  <tbody>\n",
              "    <tr>\n",
              "      <th>median</th>\n",
              "      <td>23.79</td>\n",
              "      <td>24.49000</td>\n",
              "    </tr>\n",
              "    <tr>\n",
              "      <th>q1</th>\n",
              "      <td>20.20</td>\n",
              "      <td>19.80250</td>\n",
              "    </tr>\n",
              "    <tr>\n",
              "      <th>q3</th>\n",
              "      <td>28.02</td>\n",
              "      <td>27.95000</td>\n",
              "    </tr>\n",
              "    <tr>\n",
              "      <th>iqr</th>\n",
              "      <td>7.82</td>\n",
              "      <td>8.14750</td>\n",
              "    </tr>\n",
              "    <tr>\n",
              "      <th>mod out low</th>\n",
              "      <td>8.47</td>\n",
              "      <td>7.58125</td>\n",
              "    </tr>\n",
              "    <tr>\n",
              "      <th>mod out up</th>\n",
              "      <td>39.75</td>\n",
              "      <td>40.17125</td>\n",
              "    </tr>\n",
              "    <tr>\n",
              "      <th>sev out low</th>\n",
              "      <td>-3.26</td>\n",
              "      <td>-4.64000</td>\n",
              "    </tr>\n",
              "    <tr>\n",
              "      <th>sev out up</th>\n",
              "      <td>51.48</td>\n",
              "      <td>52.39250</td>\n",
              "    </tr>\n",
              "  </tbody>\n",
              "</table>\n",
              "</div>"
            ],
            "text/plain": [
              "                 F         M\n",
              "median       23.79  24.49000\n",
              "q1           20.20  19.80250\n",
              "q3           28.02  27.95000\n",
              "iqr           7.82   8.14750\n",
              "mod out low   8.47   7.58125\n",
              "mod out up   39.75  40.17125\n",
              "sev out low  -3.26  -4.64000\n",
              "sev out up   51.48  52.39250"
            ]
          },
          "execution_count": 656,
          "metadata": {},
          "output_type": "execute_result"
        }
      ],
      "source": [
        "df_to_compare_dist_percentile_stats(nm_df[nm_df[GENDER] == \"F\"][[SAT_FAT]], nm_df[nm_df[GENDER] == \"M\"][[SAT_FAT]], \"F\", \"M\")"
      ]
    },
    {
      "cell_type": "code",
      "execution_count": 657,
      "metadata": {},
      "outputs": [
        {
          "data": {
            "text/html": [
              "<div>\n",
              "<style scoped>\n",
              "    .dataframe tbody tr th:only-of-type {\n",
              "        vertical-align: middle;\n",
              "    }\n",
              "\n",
              "    .dataframe tbody tr th {\n",
              "        vertical-align: top;\n",
              "    }\n",
              "\n",
              "    .dataframe thead th {\n",
              "        text-align: right;\n",
              "    }\n",
              "</style>\n",
              "<table border=\"1\" class=\"dataframe\">\n",
              "  <thead>\n",
              "    <tr style=\"text-align: right;\">\n",
              "      <th></th>\n",
              "      <th>Grasas_sat</th>\n",
              "      <th>Alcohol</th>\n",
              "      <th>Calorías</th>\n",
              "      <th>Sexo</th>\n",
              "      <th>Out_type</th>\n",
              "    </tr>\n",
              "  </thead>\n",
              "  <tbody>\n",
              "    <tr>\n",
              "      <th>167</th>\n",
              "      <td>45.31</td>\n",
              "      <td>31.26</td>\n",
              "      <td>2260</td>\n",
              "      <td>M</td>\n",
              "      <td>Moderate Upper</td>\n",
              "    </tr>\n",
              "    <tr>\n",
              "      <th>168</th>\n",
              "      <td>46.36</td>\n",
              "      <td>32.64</td>\n",
              "      <td>2285</td>\n",
              "      <td>M</td>\n",
              "      <td>Moderate Upper</td>\n",
              "    </tr>\n",
              "    <tr>\n",
              "      <th>172</th>\n",
              "      <td>40.59</td>\n",
              "      <td>40.11</td>\n",
              "      <td>2376</td>\n",
              "      <td>M</td>\n",
              "      <td>Moderate Upper</td>\n",
              "    </tr>\n",
              "  </tbody>\n",
              "</table>\n",
              "</div>"
            ],
            "text/plain": [
              "     Grasas_sat  Alcohol  Calorías Sexo        Out_type\n",
              "167       45.31    31.26      2260    M  Moderate Upper\n",
              "168       46.36    32.64      2285    M  Moderate Upper\n",
              "172       40.59    40.11      2376    M  Moderate Upper"
            ]
          },
          "execution_count": 657,
          "metadata": {},
          "output_type": "execute_result"
        }
      ],
      "source": [
        "pd.concat([df_outliers_nm(nm_df[nm_df[GENDER] == \"F\"], SAT_FAT), df_outliers_nm(nm_df[nm_df[GENDER] == \"M\"], SAT_FAT)])"
      ]
    },
    {
      "cell_type": "code",
      "execution_count": 658,
      "metadata": {},
      "outputs": [
        {
          "data": {
            "image/png": "[encoded data removed]",
            "text/plain": [
              "<Figure size 640x480 with 2 Axes>"
            ]
          },
          "metadata": {},
          "output_type": "display_data"
        }
      ],
      "source": [
        "figure, axis = plt.subplots(1, 2)\n",
        "sns.histplot(x=SAT_FAT, data=nm_df[nm_df[GENDER] == \"F\"][[SAT_FAT]],   ax=axis[0], color=sns.color_palette()[0], bins=(math.ceil(math.log2(nm_df[nm_df[GENDER] == \"F\"][[SAT_FAT]].shape[0]))))\n",
        "sns.histplot(x=SAT_FAT, data=nm_df[nm_df[GENDER] == \"M\"][[SAT_FAT]],   ax=axis[1], color=sns.color_palette()[1], bins=(math.ceil(math.log2(nm_df[nm_df[GENDER] == \"M\"][[SAT_FAT]].shape[0]))))\n",
        "axis[0].set_title(\"F\")\n",
        "axis[0].set_ylabel(None)\n",
        "axis[0].set_xlabel(None)\n",
        "axis[0].set_xlim([10, 48])\n",
        "axis[0].set_ylim([0, 25])\n",
        "axis[1].set_title(\"M\")\n",
        "axis[1].set_ylabel(None)\n",
        "axis[1].set_xlabel(None)\n",
        "axis[1].set_xlim([10, 48])\n",
        "axis[1].set_ylim([0, 25])\n",
        "figure.supylabel(\"Frequence\")\n",
        "figure.supxlabel(\"Saturated fat intake\")\n",
        "figure.tight_layout()\n",
        "plt.show()"
      ]
    },
    {
      "cell_type": "code",
      "execution_count": 659,
      "metadata": {},
      "outputs": [
        {
          "data": {
            "text/html": [
              "<div>\n",
              "<style scoped>\n",
              "    .dataframe tbody tr th:only-of-type {\n",
              "        vertical-align: middle;\n",
              "    }\n",
              "\n",
              "    .dataframe tbody tr th {\n",
              "        vertical-align: top;\n",
              "    }\n",
              "\n",
              "    .dataframe thead th {\n",
              "        text-align: right;\n",
              "    }\n",
              "</style>\n",
              "<table border=\"1\" class=\"dataframe\">\n",
              "  <thead>\n",
              "    <tr style=\"text-align: right;\">\n",
              "      <th></th>\n",
              "      <th>F</th>\n",
              "      <th>M</th>\n",
              "    </tr>\n",
              "  </thead>\n",
              "  <tbody>\n",
              "    <tr>\n",
              "      <th>mean</th>\n",
              "      <td>24.283226</td>\n",
              "      <td>24.979474</td>\n",
              "    </tr>\n",
              "    <tr>\n",
              "      <th>std</th>\n",
              "      <td>5.910221</td>\n",
              "      <td>6.984910</td>\n",
              "    </tr>\n",
              "    <tr>\n",
              "      <th>skew</th>\n",
              "      <td>0.320345</td>\n",
              "      <td>0.881682</td>\n",
              "    </tr>\n",
              "    <tr>\n",
              "      <th>kurt</th>\n",
              "      <td>-0.348431</td>\n",
              "      <td>0.992943</td>\n",
              "    </tr>\n",
              "  </tbody>\n",
              "</table>\n",
              "</div>"
            ],
            "text/plain": [
              "              F          M\n",
              "mean  24.283226  24.979474\n",
              "std    5.910221   6.984910\n",
              "skew   0.320345   0.881682\n",
              "kurt  -0.348431   0.992943"
            ]
          },
          "execution_count": 659,
          "metadata": {},
          "output_type": "execute_result"
        }
      ],
      "source": [
        "df_to_compare_dist_normal_stats(nm_df[nm_df[GENDER] == \"F\"][[SAT_FAT]], nm_df[nm_df[GENDER] == \"M\"][[SAT_FAT]], \"F\", \"M\")"
      ]
    },
    {
      "cell_type": "code",
      "execution_count": 660,
      "metadata": {
        "colab": {
          "base_uri": "https://localhost:8080/",
          "height": 472
        },
        "id": "GGDnT8CdmYb3",
        "outputId": "f4fe5730-15b1-4ba4-b8f4-95333d53d2ad"
      },
      "outputs": [
        {
          "data": {
            "image/png": "[encoded data removed]",
            "text/plain": [
              "<Figure size 640x480 with 1 Axes>"
            ]
          },
          "metadata": {},
          "output_type": "display_data"
        }
      ],
      "source": [
        "plt.figure()\n",
        "sns.boxplot(x=GENDER, y=CAL, data=nm_df)\n",
        "plt.title('Boxplot of Calorie Intake by Gender')\n",
        "plt.xlabel('Gender')\n",
        "plt.ylabel('Calorie Intake')\n",
        "plt.show()"
      ]
    },
    {
      "cell_type": "code",
      "execution_count": 661,
      "metadata": {},
      "outputs": [
        {
          "data": {
            "text/html": [
              "<div>\n",
              "<style scoped>\n",
              "    .dataframe tbody tr th:only-of-type {\n",
              "        vertical-align: middle;\n",
              "    }\n",
              "\n",
              "    .dataframe tbody tr th {\n",
              "        vertical-align: top;\n",
              "    }\n",
              "\n",
              "    .dataframe thead th {\n",
              "        text-align: right;\n",
              "    }\n",
              "</style>\n",
              "<table border=\"1\" class=\"dataframe\">\n",
              "  <thead>\n",
              "    <tr style=\"text-align: right;\">\n",
              "      <th></th>\n",
              "      <th>F</th>\n",
              "      <th>M</th>\n",
              "    </tr>\n",
              "  </thead>\n",
              "  <tbody>\n",
              "    <tr>\n",
              "      <th>median</th>\n",
              "      <td>1583.0</td>\n",
              "      <td>1598.00</td>\n",
              "    </tr>\n",
              "    <tr>\n",
              "      <th>q1</th>\n",
              "      <td>1400.0</td>\n",
              "      <td>1429.25</td>\n",
              "    </tr>\n",
              "    <tr>\n",
              "      <th>q3</th>\n",
              "      <td>1721.0</td>\n",
              "      <td>1782.75</td>\n",
              "    </tr>\n",
              "    <tr>\n",
              "      <th>iqr</th>\n",
              "      <td>321.0</td>\n",
              "      <td>353.50</td>\n",
              "    </tr>\n",
              "    <tr>\n",
              "      <th>mod out low</th>\n",
              "      <td>918.5</td>\n",
              "      <td>899.00</td>\n",
              "    </tr>\n",
              "    <tr>\n",
              "      <th>mod out up</th>\n",
              "      <td>2202.5</td>\n",
              "      <td>2313.00</td>\n",
              "    </tr>\n",
              "    <tr>\n",
              "      <th>sev out low</th>\n",
              "      <td>437.0</td>\n",
              "      <td>368.75</td>\n",
              "    </tr>\n",
              "    <tr>\n",
              "      <th>sev out up</th>\n",
              "      <td>2684.0</td>\n",
              "      <td>2843.25</td>\n",
              "    </tr>\n",
              "  </tbody>\n",
              "</table>\n",
              "</div>"
            ],
            "text/plain": [
              "                  F        M\n",
              "median       1583.0  1598.00\n",
              "q1           1400.0  1429.25\n",
              "q3           1721.0  1782.75\n",
              "iqr           321.0   353.50\n",
              "mod out low   918.5   899.00\n",
              "mod out up   2202.5  2313.00\n",
              "sev out low   437.0   368.75\n",
              "sev out up   2684.0  2843.25"
            ]
          },
          "execution_count": 661,
          "metadata": {},
          "output_type": "execute_result"
        }
      ],
      "source": [
        "df_to_compare_dist_percentile_stats(nm_df[nm_df[GENDER] == \"F\"][[CAL]], nm_df[nm_df[GENDER] == \"M\"][[CAL]], \"F\", \"M\")"
      ]
    },
    {
      "cell_type": "code",
      "execution_count": null,
      "metadata": {},
      "outputs": [],
      "source": [
        "pd.concat([df_outliers_nm(nm_df[nm_df[GENDER] == \"F\"], CAL), df_outliers_nm(nm_df[nm_df[GENDER] == \"M\"], CAL)])"
      ]
    },
    {
      "cell_type": "code",
      "execution_count": 662,
      "metadata": {},
      "outputs": [
        {
          "data": {
            "image/png": "[encoded data removed]",
            "text/plain": [
              "<Figure size 640x480 with 2 Axes>"
            ]
          },
          "metadata": {},
          "output_type": "display_data"
        }
      ],
      "source": [
        "figure, axis = plt.subplots(1, 2)\n",
        "sns.histplot(x=CAL, data=nm_df[nm_df[GENDER] == \"F\"][[CAL]],   ax=axis[0], color=sns.color_palette()[0], bins=(math.ceil(math.log2(nm_df[nm_df[GENDER] == \"F\"][[CAL]].shape[0]))-1))\n",
        "sns.histplot(x=CAL, data=nm_df[nm_df[GENDER] == \"M\"][[CAL]],   ax=axis[1], color=sns.color_palette()[1], bins=(math.ceil(math.log2(nm_df[nm_df[GENDER] == \"M\"][[CAL]].shape[0]))-1))\n",
        "axis[0].set_title(\"F\")\n",
        "axis[0].set_ylabel(None)\n",
        "axis[0].set_xlabel(None)\n",
        "axis[0].set_ylim([0, 27])\n",
        "axis[0].set_xlim([800, 2500])\n",
        "axis[1].set_title(\"M\")\n",
        "axis[1].set_ylabel(None)\n",
        "axis[1].set_xlabel(None)\n",
        "axis[1].set_ylim([0, 27])\n",
        "axis[1].set_xlim([800, 2500])\n",
        "figure.supylabel(\"Frequence\")\n",
        "figure.supxlabel(\"Calorie intake\")\n",
        "figure.tight_layout()\n",
        "plt.show()"
      ]
    },
    {
      "cell_type": "code",
      "execution_count": 663,
      "metadata": {},
      "outputs": [
        {
          "data": {
            "text/html": [
              "<div>\n",
              "<style scoped>\n",
              "    .dataframe tbody tr th:only-of-type {\n",
              "        vertical-align: middle;\n",
              "    }\n",
              "\n",
              "    .dataframe tbody tr th {\n",
              "        vertical-align: top;\n",
              "    }\n",
              "\n",
              "    .dataframe thead th {\n",
              "        text-align: right;\n",
              "    }\n",
              "</style>\n",
              "<table border=\"1\" class=\"dataframe\">\n",
              "  <thead>\n",
              "    <tr style=\"text-align: right;\">\n",
              "      <th></th>\n",
              "      <th>F</th>\n",
              "      <th>M</th>\n",
              "    </tr>\n",
              "  </thead>\n",
              "  <tbody>\n",
              "    <tr>\n",
              "      <th>mean</th>\n",
              "      <td>1550.946237</td>\n",
              "      <td>1627.657895</td>\n",
              "    </tr>\n",
              "    <tr>\n",
              "      <th>std</th>\n",
              "      <td>254.611698</td>\n",
              "      <td>327.804436</td>\n",
              "    </tr>\n",
              "    <tr>\n",
              "      <th>skew</th>\n",
              "      <td>-0.343828</td>\n",
              "      <td>0.298601</td>\n",
              "    </tr>\n",
              "    <tr>\n",
              "      <th>kurt</th>\n",
              "      <td>-0.219324</td>\n",
              "      <td>-0.087660</td>\n",
              "    </tr>\n",
              "  </tbody>\n",
              "</table>\n",
              "</div>"
            ],
            "text/plain": [
              "                F            M\n",
              "mean  1550.946237  1627.657895\n",
              "std    254.611698   327.804436\n",
              "skew    -0.343828     0.298601\n",
              "kurt    -0.219324    -0.087660"
            ]
          },
          "execution_count": 663,
          "metadata": {},
          "output_type": "execute_result"
        }
      ],
      "source": [
        "df_to_compare_dist_normal_stats(nm_df[nm_df[GENDER] == \"F\"][[CAL]], nm_df[nm_df[GENDER] == \"M\"][[CAL]], \"F\", \"M\")"
      ]
    },
    {
      "cell_type": "code",
      "execution_count": 664,
      "metadata": {
        "colab": {
          "base_uri": "https://localhost:8080/",
          "height": 472
        },
        "id": "ErSOzQ3Fmb4t",
        "outputId": "765ee166-053b-446c-c36e-1028a8b7e535"
      },
      "outputs": [
        {
          "data": {
            "image/png": "[encoded data removed]",
            "text/plain": [
              "<Figure size 640x480 with 1 Axes>"
            ]
          },
          "metadata": {},
          "output_type": "display_data"
        }
      ],
      "source": [
        "plt.figure()\n",
        "sns.boxplot(x=GENDER, y=ALCOHOL, data=nm_df)\n",
        "plt.title('Boxplot of Alcohol Intake by Gender')\n",
        "plt.xlabel('Gender')\n",
        "plt.ylabel('Alcohol Intake')\n",
        "plt.show()"
      ]
    },
    {
      "cell_type": "code",
      "execution_count": 665,
      "metadata": {},
      "outputs": [
        {
          "data": {
            "text/html": [
              "<div>\n",
              "<style scoped>\n",
              "    .dataframe tbody tr th:only-of-type {\n",
              "        vertical-align: middle;\n",
              "    }\n",
              "\n",
              "    .dataframe tbody tr th {\n",
              "        vertical-align: top;\n",
              "    }\n",
              "\n",
              "    .dataframe thead th {\n",
              "        text-align: right;\n",
              "    }\n",
              "</style>\n",
              "<table border=\"1\" class=\"dataframe\">\n",
              "  <thead>\n",
              "    <tr style=\"text-align: right;\">\n",
              "      <th></th>\n",
              "      <th>F</th>\n",
              "      <th>M</th>\n",
              "    </tr>\n",
              "  </thead>\n",
              "  <tbody>\n",
              "    <tr>\n",
              "      <th>median</th>\n",
              "      <td>4.210</td>\n",
              "      <td>8.24000</td>\n",
              "    </tr>\n",
              "    <tr>\n",
              "      <th>q1</th>\n",
              "      <td>0.800</td>\n",
              "      <td>2.19500</td>\n",
              "    </tr>\n",
              "    <tr>\n",
              "      <th>q3</th>\n",
              "      <td>11.150</td>\n",
              "      <td>21.91250</td>\n",
              "    </tr>\n",
              "    <tr>\n",
              "      <th>iqr</th>\n",
              "      <td>10.350</td>\n",
              "      <td>19.71750</td>\n",
              "    </tr>\n",
              "    <tr>\n",
              "      <th>mod out low</th>\n",
              "      <td>-14.725</td>\n",
              "      <td>-27.38125</td>\n",
              "    </tr>\n",
              "    <tr>\n",
              "      <th>mod out up</th>\n",
              "      <td>26.675</td>\n",
              "      <td>51.48875</td>\n",
              "    </tr>\n",
              "    <tr>\n",
              "      <th>sev out low</th>\n",
              "      <td>-30.250</td>\n",
              "      <td>-56.95750</td>\n",
              "    </tr>\n",
              "    <tr>\n",
              "      <th>sev out up</th>\n",
              "      <td>42.200</td>\n",
              "      <td>81.06500</td>\n",
              "    </tr>\n",
              "  </tbody>\n",
              "</table>\n",
              "</div>"
            ],
            "text/plain": [
              "                  F         M\n",
              "median        4.210   8.24000\n",
              "q1            0.800   2.19500\n",
              "q3           11.150  21.91250\n",
              "iqr          10.350  19.71750\n",
              "mod out low -14.725 -27.38125\n",
              "mod out up   26.675  51.48875\n",
              "sev out low -30.250 -56.95750\n",
              "sev out up   42.200  81.06500"
            ]
          },
          "execution_count": 665,
          "metadata": {},
          "output_type": "execute_result"
        }
      ],
      "source": [
        "df_to_compare_dist_percentile_stats(nm_df[nm_df[GENDER] == \"F\"][[ALCOHOL]], nm_df[nm_df[GENDER] == \"M\"][[ALCOHOL]], \"F\", \"M\")"
      ]
    },
    {
      "cell_type": "code",
      "execution_count": null,
      "metadata": {},
      "outputs": [],
      "source": [
        "pd.concat([df_outliers_nm(nm_df[nm_df[GENDER] == \"F\"], ALCOHOL), df_outliers_nm(nm_df[nm_df[GENDER] == \"M\"], ALCOHOL)])"
      ]
    },
    {
      "cell_type": "code",
      "execution_count": 666,
      "metadata": {},
      "outputs": [
        {
          "data": {
            "image/png": "[encoded data removed]",
            "text/plain": [
              "<Figure size 640x480 with 2 Axes>"
            ]
          },
          "metadata": {},
          "output_type": "display_data"
        }
      ],
      "source": [
        "figure, axis = plt.subplots(1, 2)\n",
        "sns.histplot(x=ALCOHOL, data=nm_df[nm_df[GENDER] == \"F\"][[ALCOHOL]],   ax=axis[0], color=sns.color_palette()[0], bins=(math.ceil(math.log2(nm_df[nm_df[GENDER] == \"F\"][[ALCOHOL]].shape[0]))-2))\n",
        "sns.histplot(x=ALCOHOL, data=nm_df[nm_df[GENDER] == \"M\"][[ALCOHOL]],   ax=axis[1], color=sns.color_palette()[1], bins=(math.ceil(math.log2(nm_df[nm_df[GENDER] == \"M\"][[ALCOHOL]].shape[0]))-2))\n",
        "axis[0].set_title(\"F\")\n",
        "axis[0].set_ylabel(None)\n",
        "axis[0].set_xlabel(None)\n",
        "axis[0].set_xlim([0, 40])\n",
        "axis[0].set_ylim([0, 45])\n",
        "axis[1].set_title(\"M\")\n",
        "axis[1].set_ylabel(None)\n",
        "axis[1].set_xlabel(None)\n",
        "axis[1].set_ylim([0, 40])\n",
        "axis[1].set_ylim([0, 45])\n",
        "figure.supylabel(\"Frequence\")\n",
        "figure.supxlabel(\"Alcohol intake\")\n",
        "figure.tight_layout()\n",
        "plt.show()"
      ]
    },
    {
      "cell_type": "code",
      "execution_count": 667,
      "metadata": {},
      "outputs": [
        {
          "data": {
            "text/html": [
              "<div>\n",
              "<style scoped>\n",
              "    .dataframe tbody tr th:only-of-type {\n",
              "        vertical-align: middle;\n",
              "    }\n",
              "\n",
              "    .dataframe tbody tr th {\n",
              "        vertical-align: top;\n",
              "    }\n",
              "\n",
              "    .dataframe thead th {\n",
              "        text-align: right;\n",
              "    }\n",
              "</style>\n",
              "<table border=\"1\" class=\"dataframe\">\n",
              "  <thead>\n",
              "    <tr style=\"text-align: right;\">\n",
              "      <th></th>\n",
              "      <th>F</th>\n",
              "      <th>M</th>\n",
              "    </tr>\n",
              "  </thead>\n",
              "  <tbody>\n",
              "    <tr>\n",
              "      <th>mean</th>\n",
              "      <td>5.843548</td>\n",
              "      <td>12.106447</td>\n",
              "    </tr>\n",
              "    <tr>\n",
              "      <th>std</th>\n",
              "      <td>5.754154</td>\n",
              "      <td>10.800377</td>\n",
              "    </tr>\n",
              "    <tr>\n",
              "      <th>skew</th>\n",
              "      <td>0.862549</td>\n",
              "      <td>0.814275</td>\n",
              "    </tr>\n",
              "    <tr>\n",
              "      <th>kurt</th>\n",
              "      <td>-0.647571</td>\n",
              "      <td>-0.508692</td>\n",
              "    </tr>\n",
              "  </tbody>\n",
              "</table>\n",
              "</div>"
            ],
            "text/plain": [
              "             F          M\n",
              "mean  5.843548  12.106447\n",
              "std   5.754154  10.800377\n",
              "skew  0.862549   0.814275\n",
              "kurt -0.647571  -0.508692"
            ]
          },
          "execution_count": 667,
          "metadata": {},
          "output_type": "execute_result"
        }
      ],
      "source": [
        "df_to_compare_dist_normal_stats(nm_df[nm_df[GENDER] == \"F\"][[ALCOHOL]], nm_df[nm_df[GENDER] == \"M\"][[ALCOHOL]], \"F\", \"M\")"
      ]
    },
    {
      "cell_type": "markdown",
      "metadata": {
        "id": "45bLHGrOk6hX"
      },
      "source": [
        "## Scatter plots\n",
        "3. Analice los datos para la variables Grasas sat, Alcohol y Calorıas de acuerdo a la variable categorica Sexo. Comentar los resultados"
      ]
    },
    {
      "cell_type": "code",
      "execution_count": 668,
      "metadata": {
        "colab": {
          "base_uri": "https://localhost:8080/",
          "height": 505
        },
        "id": "rRdWv29ZkZYb",
        "outputId": "4d07f473-0f6e-4e0f-dc5b-e623b870d51e"
      },
      "outputs": [
        {
          "data": {
            "image/png": "[encoded data removed]",
            "text/plain": [
              "<Figure size 1000x500 with 1 Axes>"
            ]
          },
          "metadata": {},
          "output_type": "display_data"
        }
      ],
      "source": [
        "plt.figure(figsize=(10,5))\n",
        "fig = sns.scatterplot(data=nm_df, x=SAT_FAT, y=ALCOHOL, hue=GENDER)\n",
        "plt.title('Saturated fats vs Alcohol, by gender')\n",
        "plt.xlabel('Saturated fats')\n",
        "plt.ylabel('Alcohol')\n",
        "plt.show()"
      ]
    },
    {
      "cell_type": "code",
      "execution_count": 669,
      "metadata": {
        "colab": {
          "base_uri": "https://localhost:8080/",
          "height": 505
        },
        "id": "V8gu2BfenmQ9",
        "outputId": "a1f5be37-7825-4a56-884e-5ad2bf194046"
      },
      "outputs": [
        {
          "data": {
            "image/png": "[encoded data removed]",
            "text/plain": [
              "<Figure size 1000x500 with 1 Axes>"
            ]
          },
          "metadata": {},
          "output_type": "display_data"
        }
      ],
      "source": [
        "plt.figure(figsize=(10,5))\n",
        "fig = sns.scatterplot(data=nm_df, x=CAL, y=ALCOHOL, hue=GENDER)\n",
        "plt.title('Calories vs Alcohol, by gender')\n",
        "plt.xlabel('Calories')\n",
        "plt.ylabel('Alcohol')\n",
        "plt.show()"
      ]
    },
    {
      "cell_type": "code",
      "execution_count": 670,
      "metadata": {
        "colab": {
          "base_uri": "https://localhost:8080/",
          "height": 505
        },
        "id": "3bxeQH8fn5mF",
        "outputId": "707319c9-b12e-4a19-e2b9-112d1dedf97f"
      },
      "outputs": [
        {
          "data": {
            "image/png": "[encoded data removed]",
            "text/plain": [
              "<Figure size 1000x500 with 1 Axes>"
            ]
          },
          "metadata": {},
          "output_type": "display_data"
        }
      ],
      "source": [
        "plt.figure(figsize=(10,5))\n",
        "fig = sns.scatterplot(data=nm_df, x=CAL, y=SAT_FAT, hue=GENDER)\n",
        "plt.title('Calories vs Saturated fats, by gender')\n",
        "plt.xlabel('Calories')\n",
        "plt.ylabel('Saturated fats')\n",
        "plt.show()"
      ]
    },
    {
      "cell_type": "code",
      "execution_count": 671,
      "metadata": {
        "id": "hpP01plZt1Xv"
      },
      "outputs": [],
      "source": [
        "fem_df = nm_df[nm_df[GENDER] == \"F\"]\n",
        "masc_df = nm_df[nm_df[GENDER] == \"M\"]"
      ]
    },
    {
      "cell_type": "code",
      "execution_count": 672,
      "metadata": {
        "colab": {
          "base_uri": "https://localhost:8080/",
          "height": 542
        },
        "id": "7EETabrm1rIi",
        "outputId": "7f3eb609-10c8-4096-d586-96a3488c6b82"
      },
      "outputs": [
        {
          "data": {
            "application/vnd.plotly.v1+json": {
              "config": {
                "plotlyServerURL": "https://plot.ly"
              },
              "data": [
                {
                  "mode": "markers",
                  "name": "F",
                  "type": "scatter3d",
                  "x": [
                    910,
                    1026,
                    1033,
                    1098,
                    1122,
                    1149,
                    1162,
                    1221,
                    1233,
                    1253,
                    1255,
                    1280,
                    1286,
                    1293,
                    1299,
                    1302,
                    1325,
                    1369,
                    1376,
                    1388,
                    1388,
                    1200,
                    900,
                    1400,
                    1402,
                    1402,
                    1426,
                    1428,
                    1438,
                    1445,
                    1454,
                    1456,
                    1467,
                    1484,
                    1485,
                    1491,
                    1501,
                    1502,
                    1518,
                    1524,
                    1548,
                    1555,
                    1561,
                    1568,
                    1583,
                    1585,
                    1588,
                    1591,
                    1593,
                    1606,
                    1608,
                    1612,
                    1619,
                    1634,
                    1639,
                    1641,
                    1649,
                    1649,
                    1661,
                    1670,
                    1682,
                    1683,
                    1689,
                    1700,
                    1500,
                    1450,
                    1702,
                    1704,
                    1707,
                    1721,
                    1731,
                    1742,
                    1757,
                    1767,
                    1769,
                    1769,
                    1779,
                    1807,
                    1815,
                    1820,
                    1827,
                    1870,
                    1878,
                    1884,
                    1885,
                    1889,
                    1947,
                    1968,
                    1973,
                    1976,
                    1989,
                    1994,
                    2013
                  ],
                  "y": [
                    14.6,
                    11.82,
                    16.98,
                    14.04,
                    15.3,
                    17.26,
                    16,
                    20.39,
                    23.45,
                    21.35,
                    14.68,
                    23.66,
                    20.72,
                    24.51,
                    19.79,
                    18.94,
                    18.83,
                    19.73,
                    22.32,
                    16.61,
                    17.73,
                    38.68,
                    33.26,
                    23.59,
                    24.38,
                    24.62,
                    21.57,
                    18.12,
                    21.56,
                    25.11,
                    24.09,
                    27.99,
                    20.2,
                    26.26,
                    17.48,
                    21.58,
                    21.04,
                    21.79,
                    19.81,
                    21.34,
                    25.47,
                    16.73,
                    15.99,
                    20.07,
                    26.98,
                    23.98,
                    30.98,
                    22.16,
                    21.76,
                    23.49,
                    18.64,
                    18.75,
                    20.46,
                    20.39,
                    34.34,
                    28.72,
                    15.39,
                    22.51,
                    21.9,
                    26.4,
                    32.86,
                    25.97,
                    26.83,
                    23.17,
                    26.24,
                    35.36,
                    25.62,
                    26.4,
                    29.06,
                    25.85,
                    27.83,
                    28.65,
                    24.16,
                    31.35,
                    22.61,
                    28.33,
                    30.92,
                    33.2,
                    26.25,
                    27.39,
                    28.02,
                    23.79,
                    28.34,
                    28.26,
                    34.04,
                    38.73,
                    28.63,
                    33.25,
                    34.25,
                    36.19,
                    31.41,
                    27.74,
                    31.35
                  ],
                  "z": [
                    0.03,
                    0.05,
                    0.14,
                    0.38,
                    0.38,
                    0.39,
                    0.4,
                    0.51,
                    0.57,
                    0.6,
                    0.6,
                    0.63,
                    0.77,
                    0.78,
                    0.79,
                    0.8,
                    0.83,
                    0,
                    0.85,
                    0.9,
                    0.95,
                    0.96,
                    1.14,
                    2.26,
                    2.56,
                    2.62,
                    2.69,
                    2.79,
                    2.93,
                    2.98,
                    3,
                    3.11,
                    3.35,
                    3.44,
                    3.45,
                    3.7,
                    0,
                    3.77,
                    3.82,
                    4.17,
                    0,
                    0,
                    4.21,
                    4.4,
                    4.49,
                    4.57,
                    4.6,
                    4.6,
                    4.67,
                    4.75,
                    4.75,
                    4.88,
                    5.04,
                    5.17,
                    5.2,
                    0,
                    5.23,
                    5.37,
                    5.39,
                    5.84,
                    0,
                    5.97,
                    5.97,
                    6.6,
                    6.68,
                    6.77,
                    0,
                    11.13,
                    11.15,
                    11.16,
                    12.03,
                    12.18,
                    12.48,
                    12.95,
                    12.97,
                    13.11,
                    13.62,
                    13.79,
                    13.91,
                    14.23,
                    15.12,
                    15.41,
                    15.6,
                    15.69,
                    0,
                    15.72,
                    16.51,
                    16.61,
                    17.22,
                    17.27,
                    17.76,
                    17.9,
                    18.69
                  ]
                },
                {
                  "mode": "markers",
                  "name": "M",
                  "type": "scatter3d",
                  "x": [
                    923,
                    940,
                    963,
                    1106,
                    1200,
                    1183,
                    1216,
                    1226,
                    1311,
                    1320,
                    1321,
                    1330,
                    1332,
                    1340,
                    1362,
                    1363,
                    1371,
                    1374,
                    1700,
                    1418,
                    1433,
                    1440,
                    1450,
                    1450,
                    1457,
                    1470,
                    1472,
                    1481,
                    1490,
                    1514,
                    1529,
                    1533,
                    1535,
                    1555,
                    1557,
                    1560,
                    1562,
                    1582,
                    1587,
                    1609,
                    1612,
                    1616,
                    1620,
                    1626,
                    1636,
                    1669,
                    1679,
                    1680,
                    1685,
                    1691,
                    1699,
                    1718,
                    1731,
                    1732,
                    1761,
                    1761,
                    1781,
                    1788,
                    1810,
                    1823,
                    1936,
                    1940,
                    2010,
                    2029,
                    2038,
                    2050,
                    2051,
                    2085,
                    2087,
                    2096,
                    2143,
                    2260,
                    2285,
                    2300,
                    2333,
                    2376
                  ],
                  "y": [
                    14.38,
                    12.71,
                    18,
                    17.64,
                    21.41,
                    16.04,
                    14.42,
                    18.57,
                    15.94,
                    21.39,
                    19.03,
                    17.74,
                    20.71,
                    18.63,
                    21.98,
                    25.69,
                    23.34,
                    20.74,
                    18.59,
                    17.73,
                    20.06,
                    22.02,
                    18.79,
                    23.48,
                    23.65,
                    24.78,
                    26.76,
                    15.18,
                    29.57,
                    17.92,
                    24.61,
                    18.33,
                    25.28,
                    23.43,
                    16.93,
                    21.95,
                    24.83,
                    23.42,
                    24.1,
                    20.87,
                    29.59,
                    25.25,
                    16.74,
                    23.62,
                    29.17,
                    24.37,
                    26.48,
                    30.01,
                    26.46,
                    29.6,
                    28.04,
                    26.58,
                    22.42,
                    27.51,
                    25.17,
                    27.59,
                    32.19,
                    25.1,
                    32.03,
                    27.15,
                    23.56,
                    26.4,
                    36.44,
                    27.92,
                    27.5,
                    31.2,
                    34.16,
                    39.43,
                    34.61,
                    29.35,
                    26.46,
                    45.31,
                    46.36,
                    39.3,
                    34.14,
                    40.59
                  ],
                  "z": [
                    1.27,
                    1.39,
                    1.43,
                    1.58,
                    1.76,
                    0,
                    1.76,
                    1.84,
                    1.89,
                    1.89,
                    1.99,
                    2.17,
                    2.18,
                    2.2,
                    2.22,
                    2.25,
                    0,
                    0,
                    6.92,
                    6.97,
                    6.99,
                    7.12,
                    7.18,
                    7.28,
                    7.31,
                    0,
                    7.75,
                    7.79,
                    7.82,
                    7.85,
                    8.09,
                    8.1,
                    8.15,
                    8.18,
                    8.22,
                    8.26,
                    8.31,
                    8.49,
                    8.65,
                    0,
                    8.75,
                    9.43,
                    9.49,
                    9.69,
                    0,
                    9.92,
                    10.04,
                    10.12,
                    10.35,
                    10.41,
                    10.86,
                    19.38,
                    20.13,
                    20.5,
                    20.69,
                    21.78,
                    22.31,
                    0,
                    22.44,
                    22.66,
                    22.89,
                    23.44,
                    23.97,
                    25.74,
                    27.26,
                    27.55,
                    27.86,
                    28.28,
                    28.29,
                    28.79,
                    29.81,
                    31.26,
                    32.64,
                    32.72,
                    37.28,
                    40.11
                  ]
                }
              ],
              "layout": {
                "legend": {
                  "title": {
                    "text": "Gender"
                  }
                },
                "margin": {
                  "b": 10,
                  "l": 10,
                  "r": 10,
                  "t": 60
                },
                "scene": {
                  "xaxis": {
                    "title": {
                      "text": "Calories"
                    }
                  },
                  "yaxis": {
                    "title": {
                      "text": "Saturated fats"
                    }
                  },
                  "zaxis": {
                    "title": {
                      "text": "Alcohol"
                    }
                  }
                },
                "template": {
                  "data": {
                    "bar": [
                      {
                        "error_x": {
                          "color": "#2a3f5f"
                        },
                        "error_y": {
                          "color": "#2a3f5f"
                        },
                        "marker": {
                          "line": {
                            "color": "#E5ECF6",
                            "width": 0.5
                          },
                          "pattern": {
                            "fillmode": "overlay",
                            "size": 10,
                            "solidity": 0.2
                          }
                        },
                        "type": "bar"
                      }
                    ],
                    "barpolar": [
                      {
                        "marker": {
                          "line": {
                            "color": "#E5ECF6",
                            "width": 0.5
                          },
                          "pattern": {
                            "fillmode": "overlay",
                            "size": 10,
                            "solidity": 0.2
                          }
                        },
                        "type": "barpolar"
                      }
                    ],
                    "carpet": [
                      {
                        "aaxis": {
                          "endlinecolor": "#2a3f5f",
                          "gridcolor": "white",
                          "linecolor": "white",
                          "minorgridcolor": "white",
                          "startlinecolor": "#2a3f5f"
                        },
                        "baxis": {
                          "endlinecolor": "#2a3f5f",
                          "gridcolor": "white",
                          "linecolor": "white",
                          "minorgridcolor": "white",
                          "startlinecolor": "#2a3f5f"
                        },
                        "type": "carpet"
                      }
                    ],
                    "choropleth": [
                      {
                        "colorbar": {
                          "outlinewidth": 0,
                          "ticks": ""
                        },
                        "type": "choropleth"
                      }
                    ],
                    "contour": [
                      {
                        "colorbar": {
                          "outlinewidth": 0,
                          "ticks": ""
                        },
                        "colorscale": [
                          [
                            0,
                            "#0d0887"
                          ],
                          [
                            0.1111111111111111,
                            "#46039f"
                          ],
                          [
                            0.2222222222222222,
                            "#7201a8"
                          ],
                          [
                            0.3333333333333333,
                            "#9c179e"
                          ],
                          [
                            0.4444444444444444,
                            "#bd3786"
                          ],
                          [
                            0.5555555555555556,
                            "#d8576b"
                          ],
                          [
                            0.6666666666666666,
                            "#ed7953"
                          ],
                          [
                            0.7777777777777778,
                            "#fb9f3a"
                          ],
                          [
                            0.8888888888888888,
                            "#fdca26"
                          ],
                          [
                            1,
                            "#f0f921"
                          ]
                        ],
                        "type": "contour"
                      }
                    ],
                    "contourcarpet": [
                      {
                        "colorbar": {
                          "outlinewidth": 0,
                          "ticks": ""
                        },
                        "type": "contourcarpet"
                      }
                    ],
                    "heatmap": [
                      {
                        "colorbar": {
                          "outlinewidth": 0,
                          "ticks": ""
                        },
                        "colorscale": [
                          [
                            0,
                            "#0d0887"
                          ],
                          [
                            0.1111111111111111,
                            "#46039f"
                          ],
                          [
                            0.2222222222222222,
                            "#7201a8"
                          ],
                          [
                            0.3333333333333333,
                            "#9c179e"
                          ],
                          [
                            0.4444444444444444,
                            "#bd3786"
                          ],
                          [
                            0.5555555555555556,
                            "#d8576b"
                          ],
                          [
                            0.6666666666666666,
                            "#ed7953"
                          ],
                          [
                            0.7777777777777778,
                            "#fb9f3a"
                          ],
                          [
                            0.8888888888888888,
                            "#fdca26"
                          ],
                          [
                            1,
                            "#f0f921"
                          ]
                        ],
                        "type": "heatmap"
                      }
                    ],
                    "heatmapgl": [
                      {
                        "colorbar": {
                          "outlinewidth": 0,
                          "ticks": ""
                        },
                        "colorscale": [
                          [
                            0,
                            "#0d0887"
                          ],
                          [
                            0.1111111111111111,
                            "#46039f"
                          ],
                          [
                            0.2222222222222222,
                            "#7201a8"
                          ],
                          [
                            0.3333333333333333,
                            "#9c179e"
                          ],
                          [
                            0.4444444444444444,
                            "#bd3786"
                          ],
                          [
                            0.5555555555555556,
                            "#d8576b"
                          ],
                          [
                            0.6666666666666666,
                            "#ed7953"
                          ],
                          [
                            0.7777777777777778,
                            "#fb9f3a"
                          ],
                          [
                            0.8888888888888888,
                            "#fdca26"
                          ],
                          [
                            1,
                            "#f0f921"
                          ]
                        ],
                        "type": "heatmapgl"
                      }
                    ],
                    "histogram": [
                      {
                        "marker": {
                          "pattern": {
                            "fillmode": "overlay",
                            "size": 10,
                            "solidity": 0.2
                          }
                        },
                        "type": "histogram"
                      }
                    ],
                    "histogram2d": [
                      {
                        "colorbar": {
                          "outlinewidth": 0,
                          "ticks": ""
                        },
                        "colorscale": [
                          [
                            0,
                            "#0d0887"
                          ],
                          [
                            0.1111111111111111,
                            "#46039f"
                          ],
                          [
                            0.2222222222222222,
                            "#7201a8"
                          ],
                          [
                            0.3333333333333333,
                            "#9c179e"
                          ],
                          [
                            0.4444444444444444,
                            "#bd3786"
                          ],
                          [
                            0.5555555555555556,
                            "#d8576b"
                          ],
                          [
                            0.6666666666666666,
                            "#ed7953"
                          ],
                          [
                            0.7777777777777778,
                            "#fb9f3a"
                          ],
                          [
                            0.8888888888888888,
                            "#fdca26"
                          ],
                          [
                            1,
                            "#f0f921"
                          ]
                        ],
                        "type": "histogram2d"
                      }
                    ],
                    "histogram2dcontour": [
                      {
                        "colorbar": {
                          "outlinewidth": 0,
                          "ticks": ""
                        },
                        "colorscale": [
                          [
                            0,
                            "#0d0887"
                          ],
                          [
                            0.1111111111111111,
                            "#46039f"
                          ],
                          [
                            0.2222222222222222,
                            "#7201a8"
                          ],
                          [
                            0.3333333333333333,
                            "#9c179e"
                          ],
                          [
                            0.4444444444444444,
                            "#bd3786"
                          ],
                          [
                            0.5555555555555556,
                            "#d8576b"
                          ],
                          [
                            0.6666666666666666,
                            "#ed7953"
                          ],
                          [
                            0.7777777777777778,
                            "#fb9f3a"
                          ],
                          [
                            0.8888888888888888,
                            "#fdca26"
                          ],
                          [
                            1,
                            "#f0f921"
                          ]
                        ],
                        "type": "histogram2dcontour"
                      }
                    ],
                    "mesh3d": [
                      {
                        "colorbar": {
                          "outlinewidth": 0,
                          "ticks": ""
                        },
                        "type": "mesh3d"
                      }
                    ],
                    "parcoords": [
                      {
                        "line": {
                          "colorbar": {
                            "outlinewidth": 0,
                            "ticks": ""
                          }
                        },
                        "type": "parcoords"
                      }
                    ],
                    "pie": [
                      {
                        "automargin": true,
                        "type": "pie"
                      }
                    ],
                    "scatter": [
                      {
                        "fillpattern": {
                          "fillmode": "overlay",
                          "size": 10,
                          "solidity": 0.2
                        },
                        "type": "scatter"
                      }
                    ],
                    "scatter3d": [
                      {
                        "line": {
                          "colorbar": {
                            "outlinewidth": 0,
                            "ticks": ""
                          }
                        },
                        "marker": {
                          "colorbar": {
                            "outlinewidth": 0,
                            "ticks": ""
                          }
                        },
                        "type": "scatter3d"
                      }
                    ],
                    "scattercarpet": [
                      {
                        "marker": {
                          "colorbar": {
                            "outlinewidth": 0,
                            "ticks": ""
                          }
                        },
                        "type": "scattercarpet"
                      }
                    ],
                    "scattergeo": [
                      {
                        "marker": {
                          "colorbar": {
                            "outlinewidth": 0,
                            "ticks": ""
                          }
                        },
                        "type": "scattergeo"
                      }
                    ],
                    "scattergl": [
                      {
                        "marker": {
                          "colorbar": {
                            "outlinewidth": 0,
                            "ticks": ""
                          }
                        },
                        "type": "scattergl"
                      }
                    ],
                    "scattermapbox": [
                      {
                        "marker": {
                          "colorbar": {
                            "outlinewidth": 0,
                            "ticks": ""
                          }
                        },
                        "type": "scattermapbox"
                      }
                    ],
                    "scatterpolar": [
                      {
                        "marker": {
                          "colorbar": {
                            "outlinewidth": 0,
                            "ticks": ""
                          }
                        },
                        "type": "scatterpolar"
                      }
                    ],
                    "scatterpolargl": [
                      {
                        "marker": {
                          "colorbar": {
                            "outlinewidth": 0,
                            "ticks": ""
                          }
                        },
                        "type": "scatterpolargl"
                      }
                    ],
                    "scatterternary": [
                      {
                        "marker": {
                          "colorbar": {
                            "outlinewidth": 0,
                            "ticks": ""
                          }
                        },
                        "type": "scatterternary"
                      }
                    ],
                    "surface": [
                      {
                        "colorbar": {
                          "outlinewidth": 0,
                          "ticks": ""
                        },
                        "colorscale": [
                          [
                            0,
                            "#0d0887"
                          ],
                          [
                            0.1111111111111111,
                            "#46039f"
                          ],
                          [
                            0.2222222222222222,
                            "#7201a8"
                          ],
                          [
                            0.3333333333333333,
                            "#9c179e"
                          ],
                          [
                            0.4444444444444444,
                            "#bd3786"
                          ],
                          [
                            0.5555555555555556,
                            "#d8576b"
                          ],
                          [
                            0.6666666666666666,
                            "#ed7953"
                          ],
                          [
                            0.7777777777777778,
                            "#fb9f3a"
                          ],
                          [
                            0.8888888888888888,
                            "#fdca26"
                          ],
                          [
                            1,
                            "#f0f921"
                          ]
                        ],
                        "type": "surface"
                      }
                    ],
                    "table": [
                      {
                        "cells": {
                          "fill": {
                            "color": "#EBF0F8"
                          },
                          "line": {
                            "color": "white"
                          }
                        },
                        "header": {
                          "fill": {
                            "color": "#C8D4E3"
                          },
                          "line": {
                            "color": "white"
                          }
                        },
                        "type": "table"
                      }
                    ]
                  },
                  "layout": {
                    "annotationdefaults": {
                      "arrowcolor": "#2a3f5f",
                      "arrowhead": 0,
                      "arrowwidth": 1
                    },
                    "autotypenumbers": "strict",
                    "coloraxis": {
                      "colorbar": {
                        "outlinewidth": 0,
                        "ticks": ""
                      }
                    },
                    "colorscale": {
                      "diverging": [
                        [
                          0,
                          "#8e0152"
                        ],
                        [
                          0.1,
                          "#c51b7d"
                        ],
                        [
                          0.2,
                          "#de77ae"
                        ],
                        [
                          0.3,
                          "#f1b6da"
                        ],
                        [
                          0.4,
                          "#fde0ef"
                        ],
                        [
                          0.5,
                          "#f7f7f7"
                        ],
                        [
                          0.6,
                          "#e6f5d0"
                        ],
                        [
                          0.7,
                          "#b8e186"
                        ],
                        [
                          0.8,
                          "#7fbc41"
                        ],
                        [
                          0.9,
                          "#4d9221"
                        ],
                        [
                          1,
                          "#276419"
                        ]
                      ],
                      "sequential": [
                        [
                          0,
                          "#0d0887"
                        ],
                        [
                          0.1111111111111111,
                          "#46039f"
                        ],
                        [
                          0.2222222222222222,
                          "#7201a8"
                        ],
                        [
                          0.3333333333333333,
                          "#9c179e"
                        ],
                        [
                          0.4444444444444444,
                          "#bd3786"
                        ],
                        [
                          0.5555555555555556,
                          "#d8576b"
                        ],
                        [
                          0.6666666666666666,
                          "#ed7953"
                        ],
                        [
                          0.7777777777777778,
                          "#fb9f3a"
                        ],
                        [
                          0.8888888888888888,
                          "#fdca26"
                        ],
                        [
                          1,
                          "#f0f921"
                        ]
                      ],
                      "sequentialminus": [
                        [
                          0,
                          "#0d0887"
                        ],
                        [
                          0.1111111111111111,
                          "#46039f"
                        ],
                        [
                          0.2222222222222222,
                          "#7201a8"
                        ],
                        [
                          0.3333333333333333,
                          "#9c179e"
                        ],
                        [
                          0.4444444444444444,
                          "#bd3786"
                        ],
                        [
                          0.5555555555555556,
                          "#d8576b"
                        ],
                        [
                          0.6666666666666666,
                          "#ed7953"
                        ],
                        [
                          0.7777777777777778,
                          "#fb9f3a"
                        ],
                        [
                          0.8888888888888888,
                          "#fdca26"
                        ],
                        [
                          1,
                          "#f0f921"
                        ]
                      ]
                    },
                    "colorway": [
                      "#636efa",
                      "#EF553B",
                      "#00cc96",
                      "#ab63fa",
                      "#FFA15A",
                      "#19d3f3",
                      "#FF6692",
                      "#B6E880",
                      "#FF97FF",
                      "#FECB52"
                    ],
                    "font": {
                      "color": "#2a3f5f"
                    },
                    "geo": {
                      "bgcolor": "white",
                      "lakecolor": "white",
                      "landcolor": "#E5ECF6",
                      "showlakes": true,
                      "showland": true,
                      "subunitcolor": "white"
                    },
                    "hoverlabel": {
                      "align": "left"
                    },
                    "hovermode": "closest",
                    "mapbox": {
                      "style": "light"
                    },
                    "paper_bgcolor": "white",
                    "plot_bgcolor": "#E5ECF6",
                    "polar": {
                      "angularaxis": {
                        "gridcolor": "white",
                        "linecolor": "white",
                        "ticks": ""
                      },
                      "bgcolor": "#E5ECF6",
                      "radialaxis": {
                        "gridcolor": "white",
                        "linecolor": "white",
                        "ticks": ""
                      }
                    },
                    "scene": {
                      "xaxis": {
                        "backgroundcolor": "#E5ECF6",
                        "gridcolor": "white",
                        "gridwidth": 2,
                        "linecolor": "white",
                        "showbackground": true,
                        "ticks": "",
                        "zerolinecolor": "white"
                      },
                      "yaxis": {
                        "backgroundcolor": "#E5ECF6",
                        "gridcolor": "white",
                        "gridwidth": 2,
                        "linecolor": "white",
                        "showbackground": true,
                        "ticks": "",
                        "zerolinecolor": "white"
                      },
                      "zaxis": {
                        "backgroundcolor": "#E5ECF6",
                        "gridcolor": "white",
                        "gridwidth": 2,
                        "linecolor": "white",
                        "showbackground": true,
                        "ticks": "",
                        "zerolinecolor": "white"
                      }
                    },
                    "shapedefaults": {
                      "line": {
                        "color": "#2a3f5f"
                      }
                    },
                    "ternary": {
                      "aaxis": {
                        "gridcolor": "white",
                        "linecolor": "white",
                        "ticks": ""
                      },
                      "baxis": {
                        "gridcolor": "white",
                        "linecolor": "white",
                        "ticks": ""
                      },
                      "bgcolor": "#E5ECF6",
                      "caxis": {
                        "gridcolor": "white",
                        "linecolor": "white",
                        "ticks": ""
                      }
                    },
                    "title": {
                      "x": 0.05
                    },
                    "xaxis": {
                      "automargin": true,
                      "gridcolor": "white",
                      "linecolor": "white",
                      "ticks": "",
                      "title": {
                        "standoff": 15
                      },
                      "zerolinecolor": "white",
                      "zerolinewidth": 2
                    },
                    "yaxis": {
                      "automargin": true,
                      "gridcolor": "white",
                      "linecolor": "white",
                      "ticks": "",
                      "title": {
                        "standoff": 15
                      },
                      "zerolinecolor": "white",
                      "zerolinewidth": 2
                    }
                  }
                },
                "title": {
                  "text": "Calories vs Saturated fats vs Alcohol, by gender"
                },
                "width": 800
              }
            }
          },
          "metadata": {},
          "output_type": "display_data"
        }
      ],
      "source": [
        "x1 = fem_df[CAL]\n",
        "y1 = fem_df[SAT_FAT]\n",
        "z1 = fem_df[ALCOHOL]\n",
        "\n",
        "x2 = masc_df[CAL]\n",
        "y2 = masc_df[SAT_FAT]\n",
        "z2 = masc_df[ALCOHOL]\n",
        "\n",
        "fig = go.Figure()\n",
        "fig.add_trace(go.Scatter3d(x=x1, y=y1, z=z1, mode='markers', name=\"F\"))\n",
        "fig.add_trace(go.Scatter3d(x=x2, y=y2, z=z2, mode='markers', name=\"M\"))\n",
        "fig.update_layout(scene = dict(\n",
        "  xaxis_title=\"Calories\",\n",
        "  yaxis_title=\"Saturated fats\",\n",
        "  zaxis_title=\"Alcohol\"),\n",
        "  title=\"Calories vs Saturated fats vs Alcohol, by gender\",\n",
        "  legend_title=\"Gender\",\n",
        "  width=800,\n",
        "  margin=dict(r=10, b=10, l=10, t=60)\n",
        "  )\n",
        "\n",
        "fig.show()"
      ]
    },
    {
      "cell_type": "markdown",
      "metadata": {
        "id": "nrfi9XlCm4zx"
      },
      "source": [
        "## Alcohol Intake by Calories\n",
        "4. Analice la variable Alcohol de acuerdo a la cantidad de calorıas consumidas, tomando 3 categorıas para la variable Calorıas: CATE 1:1100 o menos calorıas consumidas, CATE 2: mas de 1100 hasta 1700 calorıas consumidas, CATE 3: mas de 1700 calorıas consumidas."
      ]
    },
    {
      "cell_type": "code",
      "execution_count": 673,
      "metadata": {},
      "outputs": [],
      "source": [
        "CAL_CAT = \"Calories_Category\""
      ]
    },
    {
      "cell_type": "code",
      "execution_count": 674,
      "metadata": {
        "colab": {
          "base_uri": "https://localhost:8080/",
          "height": 472
        },
        "id": "Cj3TsN4SoGJA",
        "outputId": "96ea8dd9-1be5-4e2e-ca40-233e584c4271"
      },
      "outputs": [
        {
          "data": {
            "image/png": "[encoded data removed]",
            "text/plain": [
              "<Figure size 640x480 with 1 Axes>"
            ]
          },
          "metadata": {},
          "output_type": "display_data"
        }
      ],
      "source": [
        "nm_df[CAL_CAT] = pd.cut(nm_df[CAL], bins=[0, 1100, 1700, float('inf')], labels=['CATE 1', 'CATE 2', 'CATE 3'])\n",
        "plt.figure()\n",
        "sns.boxplot(x=CAL_CAT, y=ALCOHOL, data=nm_df)\n",
        "plt.title('Boxplot of Alcohol Intake by Calorie Category')\n",
        "plt.xlabel('Calorie Category')\n",
        "plt.ylabel('Alcohol')\n",
        "plt.show()\n"
      ]
    },
    {
      "cell_type": "code",
      "execution_count": 675,
      "metadata": {
        "colab": {
          "base_uri": "https://localhost:8080/",
          "height": 472
        },
        "id": "Kw9MKB3Up2Kl",
        "outputId": "d3a904ab-a699-4667-92dc-29a21e218320"
      },
      "outputs": [
        {
          "data": {
            "image/png": "[encoded data removed]",
            "text/plain": [
              "<Figure size 640x480 with 1 Axes>"
            ]
          },
          "metadata": {},
          "output_type": "display_data"
        }
      ],
      "source": [
        "plt.hist(nm_df[nm_df[CAL_CAT] == 'CATE 1'][ALCOHOL], bins=3, alpha=0.5, label='CATE 1')\n",
        "plt.hist(nm_df[nm_df[CAL_CAT] == 'CATE 2'][ALCOHOL], bins=20, alpha=0.5, label='CATE 2')\n",
        "plt.hist(nm_df[nm_df[CAL_CAT] == 'CATE 3'][ALCOHOL], bins=50, alpha=0.5, label='CATE 3')\n",
        "\n",
        "\n",
        "plt.title('Histogram of Alcohol by Calories Category')\n",
        "plt.xlabel('Alcohol')\n",
        "plt.ylabel('Frequency')\n",
        "plt.legend()\n",
        "plt.show()"
      ]
    },
    {
      "cell_type": "code",
      "execution_count": 676,
      "metadata": {
        "colab": {
          "base_uri": "https://localhost:8080/",
          "height": 449
        },
        "id": "vNphkq5V3D_r",
        "outputId": "f53058b6-c7d6-4377-823c-3296c7a9b579"
      },
      "outputs": [
        {
          "data": {
            "image/png": "[encoded data removed]",
            "text/plain": [
              "<Figure size 640x480 with 1 Axes>"
            ]
          },
          "metadata": {},
          "output_type": "display_data"
        }
      ],
      "source": [
        "plt.figure()\n",
        "sns.scatterplot(x=ALCOHOL, y=CAL, hue=CAL_CAT, data=nm_df)\n",
        "\n",
        "for category in nm_df[CAL_CAT].unique():\n",
        "    subset = nm_df[nm_df[CAL_CAT] == category]\n",
        "    coeffs = np.polyfit(subset[ALCOHOL], subset[CAL], deg=4)\n",
        "    poly = np.poly1d(coeffs)\n",
        "    x_range = np.linspace(subset[ALCOHOL].min(), subset[ALCOHOL].max(), 100)\n",
        "    plt.plot(x_range, poly(x_range), label=f'{category} Fit')\n",
        "\n",
        "\n",
        "# subset1 = nm_df[nm_df['Calories_Category'] == 'CATE 1']\n",
        "# m, b = np.polyfit(subset1['Alcohol'], subset1['Calorías'], 1)\n",
        "# plt.plot(subset1['Alcohol'], m*subset1['Alcohol']+b)"
      ]
    },
    {
      "cell_type": "code",
      "execution_count": 677,
      "metadata": {},
      "outputs": [
        {
          "data": {
            "text/html": [
              "<div>\n",
              "<style scoped>\n",
              "    .dataframe tbody tr th:only-of-type {\n",
              "        vertical-align: middle;\n",
              "    }\n",
              "\n",
              "    .dataframe tbody tr th {\n",
              "        vertical-align: top;\n",
              "    }\n",
              "\n",
              "    .dataframe thead th {\n",
              "        text-align: right;\n",
              "    }\n",
              "</style>\n",
              "<table border=\"1\" class=\"dataframe\">\n",
              "  <thead>\n",
              "    <tr style=\"text-align: right;\">\n",
              "      <th></th>\n",
              "      <th>Alcohol</th>\n",
              "      <th>Calorías</th>\n",
              "      <th>Grasas_sat</th>\n",
              "    </tr>\n",
              "  </thead>\n",
              "  <tbody>\n",
              "    <tr>\n",
              "      <th>Alcohol</th>\n",
              "      <td>79.971415</td>\n",
              "      <td>2215.957798</td>\n",
              "      <td>37.681026</td>\n",
              "    </tr>\n",
              "    <tr>\n",
              "      <th>Calorías</th>\n",
              "      <td>2215.957798</td>\n",
              "      <td>84936.831643</td>\n",
              "      <td>1339.719138</td>\n",
              "    </tr>\n",
              "    <tr>\n",
              "      <th>Grasas_sat</th>\n",
              "      <td>37.681026</td>\n",
              "      <td>1339.719138</td>\n",
              "      <td>41.030191</td>\n",
              "    </tr>\n",
              "  </tbody>\n",
              "</table>\n",
              "</div>"
            ],
            "text/plain": [
              "                Alcohol      Calorías   Grasas_sat\n",
              "Alcohol       79.971415   2215.957798    37.681026\n",
              "Calorías    2215.957798  84936.831643  1339.719138\n",
              "Grasas_sat    37.681026   1339.719138    41.030191"
            ]
          },
          "execution_count": 677,
          "metadata": {},
          "output_type": "execute_result"
        }
      ],
      "source": [
        "nm_df[[ALCOHOL, CAL, SAT_FAT]].cov()"
      ]
    },
    {
      "cell_type": "code",
      "execution_count": 678,
      "metadata": {},
      "outputs": [
        {
          "data": {
            "text/html": [
              "<div>\n",
              "<style scoped>\n",
              "    .dataframe tbody tr th:only-of-type {\n",
              "        vertical-align: middle;\n",
              "    }\n",
              "\n",
              "    .dataframe tbody tr th {\n",
              "        vertical-align: top;\n",
              "    }\n",
              "\n",
              "    .dataframe thead th {\n",
              "        text-align: right;\n",
              "    }\n",
              "</style>\n",
              "<table border=\"1\" class=\"dataframe\">\n",
              "  <thead>\n",
              "    <tr style=\"text-align: right;\">\n",
              "      <th></th>\n",
              "      <th>Alcohol</th>\n",
              "      <th>Calorías</th>\n",
              "      <th>Grasas_sat</th>\n",
              "    </tr>\n",
              "  </thead>\n",
              "  <tbody>\n",
              "    <tr>\n",
              "      <th>Alcohol</th>\n",
              "      <td>1.000000</td>\n",
              "      <td>0.850249</td>\n",
              "      <td>0.657815</td>\n",
              "    </tr>\n",
              "    <tr>\n",
              "      <th>Calorías</th>\n",
              "      <td>0.850249</td>\n",
              "      <td>1.000000</td>\n",
              "      <td>0.717652</td>\n",
              "    </tr>\n",
              "    <tr>\n",
              "      <th>Grasas_sat</th>\n",
              "      <td>0.657815</td>\n",
              "      <td>0.717652</td>\n",
              "      <td>1.000000</td>\n",
              "    </tr>\n",
              "  </tbody>\n",
              "</table>\n",
              "</div>"
            ],
            "text/plain": [
              "             Alcohol  Calorías  Grasas_sat\n",
              "Alcohol     1.000000  0.850249    0.657815\n",
              "Calorías    0.850249  1.000000    0.717652\n",
              "Grasas_sat  0.657815  0.717652    1.000000"
            ]
          },
          "execution_count": 678,
          "metadata": {},
          "output_type": "execute_result"
        }
      ],
      "source": [
        "nm_df[[ALCOHOL, CAL, SAT_FAT]].corr()"
      ]
    }
  ],
  "metadata": {
    "colab": {
      "include_colab_link": true,
      "provenance": []
    },
    "kernelspec": {
      "display_name": "Python 3",
      "language": "python",
      "name": "python3"
    },
    "language_info": {
      "codemirror_mode": {
        "name": "ipython",
        "version": 3
      },
      "file_extension": ".py",
      "mimetype": "text/x-python",
      "name": "python",
      "nbconvert_exporter": "python",
      "pygments_lexer": "ipython3",
      "version": "3.10.12"
    },
    "orig_nbformat": 4
  },
  "nbformat": 4,
  "nbformat_minor": 0
}
